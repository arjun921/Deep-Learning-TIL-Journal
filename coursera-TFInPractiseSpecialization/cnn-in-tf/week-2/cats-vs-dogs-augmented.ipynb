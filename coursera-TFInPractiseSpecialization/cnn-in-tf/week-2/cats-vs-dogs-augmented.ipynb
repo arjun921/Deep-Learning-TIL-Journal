{
 "cells": [
  {
   "cell_type": "code",
   "execution_count": 1,
   "metadata": {},
   "outputs": [
    {
     "name": "stdout",
     "output_type": "stream",
     "text": [
      "--2020-09-19 09:10:05--  https://storage.googleapis.com/mledu-datasets/cats_and_dogs_filtered.zip\n",
      "Resolving storage.googleapis.com (storage.googleapis.com)... 172.253.122.128, 142.250.73.240, 172.217.13.240, ...\n",
      "Connecting to storage.googleapis.com (storage.googleapis.com)|172.253.122.128|:443... connected.\n",
      "HTTP request sent, awaiting response... 200 OK\n",
      "Length: 68606236 (65M) [application/zip]\n",
      "Saving to: ‘/tmp/cats_and_dogs_filtered.zip’\n",
      "\n",
      "/tmp/cats_and_dogs_ 100%[===================>]  65.43M   125MB/s    in 0.5s    \n",
      "\n",
      "2020-09-19 09:10:06 (125 MB/s) - ‘/tmp/cats_and_dogs_filtered.zip’ saved [68606236/68606236]\n",
      "\n"
     ]
    }
   ],
   "source": [
    "!wget --no-check-certificate \\\n",
    "    https://storage.googleapis.com/mledu-datasets/cats_and_dogs_filtered.zip \\\n",
    "    -O /tmp/cats_and_dogs_filtered.zip"
   ]
  },
  {
   "cell_type": "code",
   "execution_count": 3,
   "metadata": {},
   "outputs": [],
   "source": [
    "import os\n",
    "import zipfile\n",
    "import tensorflow as tf\n",
    "from tensorflow.keras.optimizers import RMSprop\n",
    "from tensorflow.keras.preprocessing.image import ImageDataGenerator\n",
    "from pathlib import Path\n",
    "\n",
    "local_zip = Path('/tmp/cats_and_dogs_filtered.zip')\n",
    "zip_ref = zipfile.ZipFile(local_zip, 'r')\n",
    "zip_ref.extractall('/tmp')\n",
    "zip_ref.close()"
   ]
  },
  {
   "cell_type": "code",
   "execution_count": 4,
   "metadata": {},
   "outputs": [],
   "source": [
    "base_dir = Path('/tmp/cats_and_dogs_filtered')\n",
    "train_dir = base_dir / Path('train')\n",
    "validation_dir = base_dir / Path('validation')"
   ]
  },
  {
   "cell_type": "code",
   "execution_count": 5,
   "metadata": {},
   "outputs": [],
   "source": [
    "train_cats_dir = train_dir / Path('cats')\n",
    "train_dogs_dir = train_dir / Path('dogs')"
   ]
  },
  {
   "cell_type": "code",
   "execution_count": 6,
   "metadata": {},
   "outputs": [],
   "source": [
    "validation_cats_dir = validation_dir / Path('cats')\n",
    "validation_dogs_dir = validation_dir / Path('dogs')"
   ]
  },
  {
   "cell_type": "code",
   "execution_count": 7,
   "metadata": {},
   "outputs": [],
   "source": [
    "from tensorflow.keras.models import Sequential\n",
    "from tensorflow.keras.layers import Conv2D, MaxPool2D, Flatten, Dense"
   ]
  },
  {
   "cell_type": "code",
   "execution_count": 39,
   "metadata": {},
   "outputs": [],
   "source": [
    "model = tf.keras.models.Sequential([\n",
    "    Conv2D(32, (3,3), activation='relu', input_shape=(150,150,3)),\n",
    "    MaxPool2D(2,2),\n",
    "    Conv2D(64, (3,3), activation='relu'),\n",
    "    MaxPool2D(2,2), \n",
    "    Conv2D(128, (3,3), activation='relu'),\n",
    "    MaxPool2D(2,2),\n",
    "    Conv2D(128, (3,3), activation='relu'),\n",
    "    MaxPool2D(2,2),\n",
    "    Flatten(),\n",
    "    Dense(512, activation='relu'),\n",
    "    Dense(1, activation='sigmoid')\n",
    "])"
   ]
  },
  {
   "cell_type": "code",
   "execution_count": 40,
   "metadata": {},
   "outputs": [],
   "source": [
    "model.compile(loss='binary_crossentropy', optimizer=RMSprop(lr=1e-4),metrics=['accuracy'])"
   ]
  },
  {
   "cell_type": "code",
   "execution_count": 41,
   "metadata": {},
   "outputs": [],
   "source": [
    "train_datagen = ImageDataGenerator(rescale=1./255)\n",
    "test_datagen = ImageDataGenerator(rescale=1./255)"
   ]
  },
  {
   "cell_type": "code",
   "execution_count": 42,
   "metadata": {},
   "outputs": [
    {
     "name": "stdout",
     "output_type": "stream",
     "text": [
      "Found 2000 images belonging to 2 classes.\n",
      "Found 1000 images belonging to 2 classes.\n"
     ]
    }
   ],
   "source": [
    "train_generator = train_datagen.flow_from_directory( train_dir, target_size=(150,150), batch_size=20, class_mode='binary')\n",
    "validation_generator = train_datagen.flow_from_directory( validation_dir, target_size=(150,150), batch_size=20, class_mode='binary')"
   ]
  },
  {
   "cell_type": "code",
   "execution_count": 43,
   "metadata": {
    "collapsed": true,
    "jupyter": {
     "outputs_hidden": true
    }
   },
   "outputs": [
    {
     "name": "stdout",
     "output_type": "stream",
     "text": [
      "Epoch 1/100\n",
      "100/100 [==============================] - 8s 78ms/step - loss: 0.6883 - accuracy: 0.5445 - val_loss: 0.6852 - val_accuracy: 0.5030\n",
      "Epoch 2/100\n",
      "100/100 [==============================] - 7s 71ms/step - loss: 0.6576 - accuracy: 0.6070 - val_loss: 0.6397 - val_accuracy: 0.6520\n",
      "Epoch 3/100\n",
      "100/100 [==============================] - 7s 75ms/step - loss: 0.6093 - accuracy: 0.6725 - val_loss: 0.6039 - val_accuracy: 0.6800\n",
      "Epoch 4/100\n",
      "100/100 [==============================] - 8s 75ms/step - loss: 0.5598 - accuracy: 0.7135 - val_loss: 0.5764 - val_accuracy: 0.6920\n",
      "Epoch 5/100\n",
      "100/100 [==============================] - 7s 71ms/step - loss: 0.5221 - accuracy: 0.7510 - val_loss: 0.5764 - val_accuracy: 0.6930\n",
      "Epoch 6/100\n",
      "100/100 [==============================] - 8s 81ms/step - loss: 0.4963 - accuracy: 0.7535 - val_loss: 0.5578 - val_accuracy: 0.7260\n",
      "Epoch 7/100\n",
      "100/100 [==============================] - 8s 79ms/step - loss: 0.4629 - accuracy: 0.7760 - val_loss: 0.5482 - val_accuracy: 0.7370\n",
      "Epoch 8/100\n",
      "100/100 [==============================] - 8s 78ms/step - loss: 0.4364 - accuracy: 0.7975 - val_loss: 0.5521 - val_accuracy: 0.7320\n",
      "Epoch 9/100\n",
      "100/100 [==============================] - 7s 70ms/step - loss: 0.4099 - accuracy: 0.8115 - val_loss: 0.5424 - val_accuracy: 0.7260\n",
      "Epoch 10/100\n",
      "100/100 [==============================] - 8s 78ms/step - loss: 0.3712 - accuracy: 0.8340 - val_loss: 0.5322 - val_accuracy: 0.7430\n",
      "Epoch 11/100\n",
      "100/100 [==============================] - 8s 76ms/step - loss: 0.3572 - accuracy: 0.8450 - val_loss: 0.5439 - val_accuracy: 0.7400\n",
      "Epoch 12/100\n",
      "100/100 [==============================] - 7s 71ms/step - loss: 0.3233 - accuracy: 0.8665 - val_loss: 0.5392 - val_accuracy: 0.7500\n",
      "Epoch 13/100\n",
      "100/100 [==============================] - 7s 74ms/step - loss: 0.3028 - accuracy: 0.8755 - val_loss: 0.6214 - val_accuracy: 0.7220\n",
      "Epoch 14/100\n",
      "100/100 [==============================] - 5s 51ms/step - loss: 0.2706 - accuracy: 0.8935 - val_loss: 0.5825 - val_accuracy: 0.7380\n",
      "Epoch 15/100\n",
      "100/100 [==============================] - 7s 73ms/step - loss: 0.2475 - accuracy: 0.9000 - val_loss: 0.5786 - val_accuracy: 0.7490\n",
      "Epoch 16/100\n",
      "100/100 [==============================] - 7s 69ms/step - loss: 0.2226 - accuracy: 0.9080 - val_loss: 0.6413 - val_accuracy: 0.7310\n",
      "Epoch 17/100\n",
      "100/100 [==============================] - 6s 58ms/step - loss: 0.2044 - accuracy: 0.9245 - val_loss: 0.5898 - val_accuracy: 0.7500\n",
      "Epoch 18/100\n",
      "100/100 [==============================] - 7s 73ms/step - loss: 0.1728 - accuracy: 0.9420 - val_loss: 0.6367 - val_accuracy: 0.7510\n",
      "Epoch 19/100\n",
      "100/100 [==============================] - 6s 63ms/step - loss: 0.1526 - accuracy: 0.9490 - val_loss: 0.6806 - val_accuracy: 0.7610\n",
      "Epoch 20/100\n",
      "100/100 [==============================] - 6s 56ms/step - loss: 0.1375 - accuracy: 0.9490 - val_loss: 0.8612 - val_accuracy: 0.6960\n",
      "Epoch 21/100\n",
      "100/100 [==============================] - 7s 71ms/step - loss: 0.1194 - accuracy: 0.9625 - val_loss: 0.6780 - val_accuracy: 0.7530\n",
      "Epoch 22/100\n",
      "100/100 [==============================] - 6s 60ms/step - loss: 0.0928 - accuracy: 0.9725 - val_loss: 0.8354 - val_accuracy: 0.7360\n",
      "Epoch 23/100\n",
      "100/100 [==============================] - 7s 71ms/step - loss: 0.0866 - accuracy: 0.9720 - val_loss: 0.7831 - val_accuracy: 0.7440\n",
      "Epoch 24/100\n",
      "100/100 [==============================] - 8s 78ms/step - loss: 0.0728 - accuracy: 0.9810 - val_loss: 0.8388 - val_accuracy: 0.7560\n",
      "Epoch 25/100\n",
      "100/100 [==============================] - 7s 74ms/step - loss: 0.0616 - accuracy: 0.9850 - val_loss: 1.0693 - val_accuracy: 0.7010\n",
      "Epoch 26/100\n",
      "100/100 [==============================] - 7s 72ms/step - loss: 0.0594 - accuracy: 0.9840 - val_loss: 0.9564 - val_accuracy: 0.7200\n",
      "Epoch 27/100\n",
      "100/100 [==============================] - 8s 80ms/step - loss: 0.0429 - accuracy: 0.9880 - val_loss: 0.9679 - val_accuracy: 0.7350\n",
      "Epoch 28/100\n",
      "100/100 [==============================] - 7s 69ms/step - loss: 0.0365 - accuracy: 0.9935 - val_loss: 1.1165 - val_accuracy: 0.7210\n",
      "Epoch 29/100\n",
      "100/100 [==============================] - 7s 69ms/step - loss: 0.0324 - accuracy: 0.9915 - val_loss: 1.1638 - val_accuracy: 0.7290\n",
      "Epoch 30/100\n",
      "100/100 [==============================] - 7s 71ms/step - loss: 0.0309 - accuracy: 0.9910 - val_loss: 1.1735 - val_accuracy: 0.7280\n",
      "Epoch 31/100\n",
      "100/100 [==============================] - 8s 77ms/step - loss: 0.0240 - accuracy: 0.9935 - val_loss: 1.1378 - val_accuracy: 0.7400\n",
      "Epoch 32/100\n",
      "100/100 [==============================] - 7s 74ms/step - loss: 0.0208 - accuracy: 0.9935 - val_loss: 1.1974 - val_accuracy: 0.7380\n",
      "Epoch 33/100\n",
      "100/100 [==============================] - 6s 57ms/step - loss: 0.0223 - accuracy: 0.9935 - val_loss: 1.5531 - val_accuracy: 0.6970\n",
      "Epoch 34/100\n",
      "100/100 [==============================] - 7s 67ms/step - loss: 0.0206 - accuracy: 0.9935 - val_loss: 1.2229 - val_accuracy: 0.7430\n",
      "Epoch 35/100\n",
      "100/100 [==============================] - 7s 73ms/step - loss: 0.0151 - accuracy: 0.9960 - val_loss: 1.2711 - val_accuracy: 0.7330\n",
      "Epoch 36/100\n",
      "100/100 [==============================] - 7s 72ms/step - loss: 0.0140 - accuracy: 0.9960 - val_loss: 1.3673 - val_accuracy: 0.7360\n",
      "Epoch 37/100\n",
      "100/100 [==============================] - 8s 77ms/step - loss: 0.0147 - accuracy: 0.9965 - val_loss: 1.4009 - val_accuracy: 0.7450\n",
      "Epoch 38/100\n",
      "100/100 [==============================] - 6s 62ms/step - loss: 0.0200 - accuracy: 0.9945 - val_loss: 1.4289 - val_accuracy: 0.7340\n",
      "Epoch 39/100\n",
      "100/100 [==============================] - 6s 63ms/step - loss: 0.0121 - accuracy: 0.9950 - val_loss: 1.3939 - val_accuracy: 0.7190\n",
      "Epoch 40/100\n",
      "100/100 [==============================] - 8s 78ms/step - loss: 0.0066 - accuracy: 0.9995 - val_loss: 1.5582 - val_accuracy: 0.7300\n",
      "Epoch 41/100\n",
      "100/100 [==============================] - 7s 72ms/step - loss: 0.0198 - accuracy: 0.9935 - val_loss: 1.5138 - val_accuracy: 0.7330\n",
      "Epoch 42/100\n",
      "100/100 [==============================] - 7s 74ms/step - loss: 0.0126 - accuracy: 0.9975 - val_loss: 1.5120 - val_accuracy: 0.7410\n",
      "Epoch 43/100\n",
      "100/100 [==============================] - 7s 72ms/step - loss: 0.0114 - accuracy: 0.9975 - val_loss: 1.5457 - val_accuracy: 0.7300\n",
      "Epoch 44/100\n",
      "100/100 [==============================] - 7s 73ms/step - loss: 0.0177 - accuracy: 0.9940 - val_loss: 1.5410 - val_accuracy: 0.7170\n",
      "Epoch 45/100\n",
      "100/100 [==============================] - 7s 67ms/step - loss: 0.0064 - accuracy: 0.9985 - val_loss: 1.6736 - val_accuracy: 0.7330\n",
      "Epoch 46/100\n",
      "100/100 [==============================] - 7s 71ms/step - loss: 0.0081 - accuracy: 0.9965 - val_loss: 1.8246 - val_accuracy: 0.7080\n",
      "Epoch 47/100\n",
      "100/100 [==============================] - 7s 68ms/step - loss: 0.0065 - accuracy: 0.9990 - val_loss: 1.6741 - val_accuracy: 0.7250\n",
      "Epoch 48/100\n",
      "100/100 [==============================] - 7s 66ms/step - loss: 0.0084 - accuracy: 0.9965 - val_loss: 1.7010 - val_accuracy: 0.7290\n",
      "Epoch 49/100\n",
      "100/100 [==============================] - 8s 79ms/step - loss: 0.0060 - accuracy: 0.9985 - val_loss: 1.8215 - val_accuracy: 0.7290\n",
      "Epoch 50/100\n",
      "100/100 [==============================] - 7s 70ms/step - loss: 0.0044 - accuracy: 0.9985 - val_loss: 1.8861 - val_accuracy: 0.7120\n",
      "Epoch 51/100\n",
      "100/100 [==============================] - 7s 72ms/step - loss: 0.0059 - accuracy: 0.9985 - val_loss: 1.7768 - val_accuracy: 0.7350\n",
      "Epoch 52/100\n",
      "100/100 [==============================] - 7s 73ms/step - loss: 0.0084 - accuracy: 0.9980 - val_loss: 1.7838 - val_accuracy: 0.7320\n",
      "Epoch 53/100\n",
      "100/100 [==============================] - 7s 72ms/step - loss: 0.0109 - accuracy: 0.9960 - val_loss: 1.9760 - val_accuracy: 0.7330\n",
      "Epoch 54/100\n",
      "100/100 [==============================] - 7s 70ms/step - loss: 0.0141 - accuracy: 0.9960 - val_loss: 1.8749 - val_accuracy: 0.7240\n",
      "Epoch 55/100\n",
      "100/100 [==============================] - 6s 62ms/step - loss: 0.0049 - accuracy: 0.9990 - val_loss: 1.8637 - val_accuracy: 0.7400\n",
      "Epoch 56/100\n",
      "100/100 [==============================] - 7s 71ms/step - loss: 0.0124 - accuracy: 0.9990 - val_loss: 1.8966 - val_accuracy: 0.7320\n",
      "Epoch 57/100\n",
      "100/100 [==============================] - 6s 63ms/step - loss: 0.0119 - accuracy: 0.9960 - val_loss: 1.9305 - val_accuracy: 0.7370\n",
      "Epoch 58/100\n",
      "100/100 [==============================] - 5s 53ms/step - loss: 8.4787e-04 - accuracy: 1.0000 - val_loss: 1.9671 - val_accuracy: 0.7340\n",
      "Epoch 59/100\n",
      "100/100 [==============================] - 5s 49ms/step - loss: 0.0096 - accuracy: 0.9970 - val_loss: 1.9562 - val_accuracy: 0.7440\n",
      "Epoch 60/100\n",
      "100/100 [==============================] - 5s 53ms/step - loss: 0.0059 - accuracy: 0.9975 - val_loss: 1.8956 - val_accuracy: 0.7410\n",
      "Epoch 61/100\n",
      "100/100 [==============================] - 6s 55ms/step - loss: 0.0072 - accuracy: 0.9985 - val_loss: 1.9236 - val_accuracy: 0.7380\n",
      "Epoch 62/100\n",
      "100/100 [==============================] - 5s 50ms/step - loss: 0.0029 - accuracy: 0.9995 - val_loss: 1.9217 - val_accuracy: 0.7420\n",
      "Epoch 63/100\n",
      "100/100 [==============================] - 6s 58ms/step - loss: 0.0101 - accuracy: 0.9955 - val_loss: 2.0145 - val_accuracy: 0.7250\n",
      "Epoch 64/100\n",
      "100/100 [==============================] - 6s 58ms/step - loss: 0.0032 - accuracy: 0.9985 - val_loss: 2.1036 - val_accuracy: 0.7190\n",
      "Epoch 65/100\n",
      "100/100 [==============================] - 5s 54ms/step - loss: 2.2475e-04 - accuracy: 1.0000 - val_loss: 2.1271 - val_accuracy: 0.7420\n",
      "Epoch 66/100\n",
      "100/100 [==============================] - 6s 59ms/step - loss: 0.0075 - accuracy: 0.9985 - val_loss: 3.3734 - val_accuracy: 0.6730\n",
      "Epoch 67/100\n",
      "100/100 [==============================] - 6s 57ms/step - loss: 0.0082 - accuracy: 0.9975 - val_loss: 2.0520 - val_accuracy: 0.7330\n",
      "Epoch 68/100\n",
      "100/100 [==============================] - 5s 48ms/step - loss: 0.0027 - accuracy: 0.9985 - val_loss: 2.0756 - val_accuracy: 0.7240\n",
      "Epoch 69/100\n",
      "100/100 [==============================] - 5s 52ms/step - loss: 0.0036 - accuracy: 0.9985 - val_loss: 2.1422 - val_accuracy: 0.7220\n",
      "Epoch 70/100\n",
      "100/100 [==============================] - 6s 59ms/step - loss: 0.0046 - accuracy: 0.9970 - val_loss: 2.2852 - val_accuracy: 0.7150\n",
      "Epoch 71/100\n",
      "100/100 [==============================] - 6s 56ms/step - loss: 0.0064 - accuracy: 0.9990 - val_loss: 2.2759 - val_accuracy: 0.7210\n",
      "Epoch 72/100\n",
      "100/100 [==============================] - 5s 52ms/step - loss: 0.0053 - accuracy: 0.9985 - val_loss: 2.1993 - val_accuracy: 0.7330\n",
      "Epoch 73/100\n",
      "100/100 [==============================] - 5s 46ms/step - loss: 0.0043 - accuracy: 0.9990 - val_loss: 2.2214 - val_accuracy: 0.7240\n",
      "Epoch 74/100\n",
      "100/100 [==============================] - 5s 45ms/step - loss: 0.0053 - accuracy: 0.9985 - val_loss: 2.2825 - val_accuracy: 0.7160\n",
      "Epoch 75/100\n",
      "100/100 [==============================] - 6s 55ms/step - loss: 0.0154 - accuracy: 0.9965 - val_loss: 2.0969 - val_accuracy: 0.7210\n",
      "Epoch 76/100\n",
      "100/100 [==============================] - 6s 55ms/step - loss: 0.0174 - accuracy: 0.9985 - val_loss: 2.1340 - val_accuracy: 0.7090\n",
      "Epoch 77/100\n",
      "100/100 [==============================] - 5s 48ms/step - loss: 1.1880e-04 - accuracy: 1.0000 - val_loss: 2.5619 - val_accuracy: 0.7080\n",
      "Epoch 78/100\n",
      "100/100 [==============================] - 6s 60ms/step - loss: 0.0058 - accuracy: 0.9970 - val_loss: 2.2391 - val_accuracy: 0.7350\n",
      "Epoch 79/100\n",
      "100/100 [==============================] - 5s 46ms/step - loss: 0.0052 - accuracy: 0.9970 - val_loss: 2.1933 - val_accuracy: 0.7190\n",
      "Epoch 80/100\n",
      "100/100 [==============================] - 5s 54ms/step - loss: 0.0093 - accuracy: 0.9980 - val_loss: 2.2922 - val_accuracy: 0.7360\n",
      "Epoch 81/100\n",
      "100/100 [==============================] - 6s 55ms/step - loss: 4.9372e-05 - accuracy: 1.0000 - val_loss: 2.3704 - val_accuracy: 0.7220\n",
      "Epoch 82/100\n",
      "100/100 [==============================] - 5s 49ms/step - loss: 0.0075 - accuracy: 0.9985 - val_loss: 2.4421 - val_accuracy: 0.7170\n",
      "Epoch 83/100\n",
      "100/100 [==============================] - 6s 58ms/step - loss: 0.0049 - accuracy: 0.9990 - val_loss: 2.5440 - val_accuracy: 0.7290\n",
      "Epoch 84/100\n",
      "100/100 [==============================] - 5s 53ms/step - loss: 2.7988e-04 - accuracy: 1.0000 - val_loss: 2.7412 - val_accuracy: 0.7140\n",
      "Epoch 85/100\n",
      "100/100 [==============================] - 5s 47ms/step - loss: 0.0088 - accuracy: 0.9980 - val_loss: 2.3626 - val_accuracy: 0.7430\n",
      "Epoch 86/100\n",
      "100/100 [==============================] - 5s 55ms/step - loss: 0.0041 - accuracy: 0.9990 - val_loss: 2.5079 - val_accuracy: 0.7250\n",
      "Epoch 87/100\n",
      "100/100 [==============================] - 6s 60ms/step - loss: 1.1130e-05 - accuracy: 1.0000 - val_loss: 3.0102 - val_accuracy: 0.7030\n",
      "Epoch 88/100\n",
      "100/100 [==============================] - 5s 53ms/step - loss: 0.0085 - accuracy: 0.9975 - val_loss: 2.6779 - val_accuracy: 0.7160\n",
      "Epoch 89/100\n",
      "100/100 [==============================] - 5s 54ms/step - loss: 0.0178 - accuracy: 0.9975 - val_loss: 2.6983 - val_accuracy: 0.7280\n",
      "Epoch 90/100\n",
      "100/100 [==============================] - 5s 47ms/step - loss: 0.0018 - accuracy: 0.9995 - val_loss: 2.6139 - val_accuracy: 0.7270\n",
      "Epoch 91/100\n",
      "100/100 [==============================] - 6s 56ms/step - loss: 0.0178 - accuracy: 0.9975 - val_loss: 2.6708 - val_accuracy: 0.7150\n",
      "Epoch 92/100\n",
      "100/100 [==============================] - 6s 65ms/step - loss: 3.4642e-04 - accuracy: 1.0000 - val_loss: 3.1820 - val_accuracy: 0.6990\n",
      "Epoch 93/100\n",
      "100/100 [==============================] - 6s 58ms/step - loss: 0.0030 - accuracy: 0.9985 - val_loss: 2.5848 - val_accuracy: 0.7330\n",
      "Epoch 94/100\n",
      "100/100 [==============================] - 5s 47ms/step - loss: 0.0040 - accuracy: 0.9995 - val_loss: 2.5496 - val_accuracy: 0.7150\n",
      "Epoch 95/100\n",
      "100/100 [==============================] - 6s 56ms/step - loss: 0.0011 - accuracy: 0.9995 - val_loss: 2.7631 - val_accuracy: 0.7230\n",
      "Epoch 96/100\n",
      "100/100 [==============================] - 5s 54ms/step - loss: 0.0028 - accuracy: 0.9985 - val_loss: 2.7848 - val_accuracy: 0.7230\n",
      "Epoch 97/100\n",
      "100/100 [==============================] - 5s 52ms/step - loss: 0.0013 - accuracy: 1.0000 - val_loss: 2.6629 - val_accuracy: 0.7270\n",
      "Epoch 98/100\n",
      "100/100 [==============================] - 5s 51ms/step - loss: 2.2045e-04 - accuracy: 1.0000 - val_loss: 2.7683 - val_accuracy: 0.7290\n",
      "Epoch 99/100\n",
      "100/100 [==============================] - 5s 47ms/step - loss: 0.0034 - accuracy: 0.9985 - val_loss: 3.1801 - val_accuracy: 0.7110\n",
      "Epoch 100/100\n",
      "100/100 [==============================] - 6s 62ms/step - loss: 1.5230e-04 - accuracy: 1.0000 - val_loss: 2.7897 - val_accuracy: 0.7260\n"
     ]
    }
   ],
   "source": [
    "history = model.fit(train_generator, steps_per_epoch=100, epochs=100, validahistoryata=validation_generator, validation_steps=50)"
   ]
  },
  {
   "cell_type": "markdown",
   "metadata": {},
   "source": [
    "## Without augmentation "
   ]
  },
  {
   "cell_type": "code",
   "execution_count": 56,
   "metadata": {},
   "outputs": [],
   "source": [
    "import matplotlib.pyplot as plt\n",
    "acc = history.history['accuracy']\n",
    "val_acc = history.history['val_accuracy']\n",
    "loss = history.history['loss']\n",
    "val_loss = history.history['val_loss']\n",
    "\n",
    "epochs = range(len(acc))"
   ]
  },
  {
   "cell_type": "code",
   "execution_count": 57,
   "metadata": {},
   "outputs": [
    {
     "data": {
      "image/png": "[encoded data removed]",
      "text/plain": [
       "<Figure size 432x288 with 1 Axes>"
      ]
     },
     "metadata": {
      "needs_background": "light"
     },
     "output_type": "display_data"
    },
    {
     "data": {
      "image/png": "[encoded data removed]",
      "text/plain": [
       "<Figure size 432x288 with 1 Axes>"
      ]
     },
     "metadata": {
      "needs_background": "light"
     },
     "output_type": "display_data"
    }
   ],
   "source": [
    "plt.plot(epochs, acc, 'bo', label='Training Accuracy')\n",
    "plt.plot(epochs, val_acc, 'b', label='Validation Accuracy')\n",
    "plt.title('Training and validation accuracy')\n",
    "\n",
    "plt.figure()\n",
    "\n",
    "plt.plot(epochs, loss, 'bo', label='Training Loss')\n",
    "plt.plot(epochs, val_loss, 'b', label='Validation Loss')\n",
    "plt.title('Training and validation loss')\n",
    "\n",
    "plt.show()"
   ]
  },
  {
   "cell_type": "markdown",
   "metadata": {},
   "source": [
    "## With augmentation"
   ]
  },
  {
   "cell_type": "code",
   "execution_count": 58,
   "metadata": {},
   "outputs": [
    {
     "name": "stdout",
     "output_type": "stream",
     "text": [
      "Found 2000 images belonging to 2 classes.\n"
     ]
    }
   ],
   "source": [
    "train_datagen = ImageDataGenerator(\n",
    "    rescale=1./255,\n",
    "    rotation_range=40,\n",
    "    width_shift_range=0.2,\n",
    "    height_shift_range=0.2,\n",
    "    shear_range=0.2,\n",
    "    zoom_range=0.2,\n",
    "    horizontal_flip=True,\n",
    "    fill_mode='nearest'\n",
    ")\n",
    "train_generator = train_datagen.flow_from_directory(train_dir, target_size=(150,150), batch_size=20, class_mode='binary')"
   ]
  },
  {
   "cell_type": "code",
   "execution_count": 59,
   "metadata": {
    "collapsed": true,
    "jupyter": {
     "outputs_hidden": true
    }
   },
   "outputs": [
    {
     "name": "stdout",
     "output_type": "stream",
     "text": [
      "Epoch 1/100\n",
      "100/100 - 15s - loss: 0.5926 - accuracy: 0.6895 - val_loss: 0.5309 - val_accuracy: 0.7450\n",
      "Epoch 2/100\n",
      "100/100 - 16s - loss: 0.5703 - accuracy: 0.7000 - val_loss: 0.5517 - val_accuracy: 0.7290\n",
      "Epoch 3/100\n",
      "100/100 - 15s - loss: 0.5641 - accuracy: 0.7140 - val_loss: 0.5300 - val_accuracy: 0.7380\n",
      "Epoch 4/100\n",
      "100/100 - 16s - loss: 0.5443 - accuracy: 0.7225 - val_loss: 0.5624 - val_accuracy: 0.7080\n",
      "Epoch 5/100\n",
      "100/100 - 16s - loss: 0.5506 - accuracy: 0.7165 - val_loss: 0.4997 - val_accuracy: 0.7480\n",
      "Epoch 6/100\n",
      "100/100 - 16s - loss: 0.5508 - accuracy: 0.7250 - val_loss: 0.4939 - val_accuracy: 0.7690\n",
      "Epoch 7/100\n",
      "100/100 - 15s - loss: 0.5363 - accuracy: 0.7280 - val_loss: 0.5082 - val_accuracy: 0.7400\n",
      "Epoch 8/100\n",
      "100/100 - 16s - loss: 0.5370 - accuracy: 0.7280 - val_loss: 0.4930 - val_accuracy: 0.7520\n",
      "Epoch 9/100\n",
      "100/100 - 16s - loss: 0.5345 - accuracy: 0.7275 - val_loss: 0.5126 - val_accuracy: 0.7460\n",
      "Epoch 10/100\n",
      "100/100 - 16s - loss: 0.5257 - accuracy: 0.7360 - val_loss: 0.5738 - val_accuracy: 0.7290\n",
      "Epoch 11/100\n",
      "100/100 - 16s - loss: 0.5184 - accuracy: 0.7470 - val_loss: 0.4985 - val_accuracy: 0.7570\n",
      "Epoch 12/100\n",
      "100/100 - 16s - loss: 0.5218 - accuracy: 0.7500 - val_loss: 0.4636 - val_accuracy: 0.7760\n",
      "Epoch 13/100\n",
      "100/100 - 15s - loss: 0.5159 - accuracy: 0.7410 - val_loss: 0.5732 - val_accuracy: 0.7280\n",
      "Epoch 14/100\n",
      "100/100 - 16s - loss: 0.5180 - accuracy: 0.7555 - val_loss: 0.4682 - val_accuracy: 0.7790\n",
      "Epoch 15/100\n",
      "100/100 - 15s - loss: 0.5167 - accuracy: 0.7520 - val_loss: 0.4748 - val_accuracy: 0.7680\n",
      "Epoch 16/100\n",
      "100/100 - 16s - loss: 0.5118 - accuracy: 0.7480 - val_loss: 0.5105 - val_accuracy: 0.7580\n",
      "Epoch 17/100\n",
      "100/100 - 16s - loss: 0.5208 - accuracy: 0.7455 - val_loss: 0.5913 - val_accuracy: 0.7090\n",
      "Epoch 18/100\n",
      "100/100 - 15s - loss: 0.5119 - accuracy: 0.7385 - val_loss: 0.4894 - val_accuracy: 0.7660\n",
      "Epoch 19/100\n",
      "100/100 - 15s - loss: 0.4967 - accuracy: 0.7600 - val_loss: 0.5133 - val_accuracy: 0.7710\n",
      "Epoch 20/100\n",
      "100/100 - 16s - loss: 0.4919 - accuracy: 0.7575 - val_loss: 0.4569 - val_accuracy: 0.7850\n",
      "Epoch 21/100\n",
      "100/100 - 16s - loss: 0.4903 - accuracy: 0.7590 - val_loss: 0.4945 - val_accuracy: 0.7830\n",
      "Epoch 22/100\n",
      "100/100 - 16s - loss: 0.4771 - accuracy: 0.7725 - val_loss: 0.5132 - val_accuracy: 0.7550\n",
      "Epoch 23/100\n",
      "100/100 - 16s - loss: 0.5038 - accuracy: 0.7585 - val_loss: 0.4571 - val_accuracy: 0.7840\n",
      "Epoch 24/100\n",
      "100/100 - 16s - loss: 0.4938 - accuracy: 0.7705 - val_loss: 0.4464 - val_accuracy: 0.7860\n",
      "Epoch 25/100\n",
      "100/100 - 16s - loss: 0.4799 - accuracy: 0.7695 - val_loss: 0.4822 - val_accuracy: 0.7700\n",
      "Epoch 26/100\n",
      "100/100 - 16s - loss: 0.4733 - accuracy: 0.7845 - val_loss: 0.4743 - val_accuracy: 0.7950\n",
      "Epoch 27/100\n",
      "100/100 - 15s - loss: 0.4864 - accuracy: 0.7735 - val_loss: 0.5429 - val_accuracy: 0.7380\n",
      "Epoch 28/100\n",
      "100/100 - 15s - loss: 0.4810 - accuracy: 0.7695 - val_loss: 0.4836 - val_accuracy: 0.7830\n",
      "Epoch 29/100\n",
      "100/100 - 16s - loss: 0.4680 - accuracy: 0.7745 - val_loss: 0.5114 - val_accuracy: 0.7550\n",
      "Epoch 30/100\n",
      "100/100 - 16s - loss: 0.4662 - accuracy: 0.7730 - val_loss: 0.4447 - val_accuracy: 0.7870\n",
      "Epoch 31/100\n",
      "100/100 - 15s - loss: 0.4625 - accuracy: 0.7825 - val_loss: 0.4409 - val_accuracy: 0.7970\n",
      "Epoch 32/100\n",
      "100/100 - 16s - loss: 0.4692 - accuracy: 0.7900 - val_loss: 0.4675 - val_accuracy: 0.7780\n",
      "Epoch 33/100\n",
      "100/100 - 15s - loss: 0.4768 - accuracy: 0.7855 - val_loss: 0.4674 - val_accuracy: 0.7860\n",
      "Epoch 34/100\n",
      "100/100 - 16s - loss: 0.4672 - accuracy: 0.7785 - val_loss: 0.6031 - val_accuracy: 0.7120\n",
      "Epoch 35/100\n",
      "100/100 - 16s - loss: 0.4670 - accuracy: 0.7735 - val_loss: 0.4568 - val_accuracy: 0.7770\n",
      "Epoch 36/100\n",
      "100/100 - 16s - loss: 0.4450 - accuracy: 0.7960 - val_loss: 0.5232 - val_accuracy: 0.7700\n",
      "Epoch 37/100\n",
      "100/100 - 16s - loss: 0.4693 - accuracy: 0.7780 - val_loss: 0.4435 - val_accuracy: 0.7930\n",
      "Epoch 38/100\n",
      "100/100 - 16s - loss: 0.4585 - accuracy: 0.7855 - val_loss: 0.4617 - val_accuracy: 0.7950\n",
      "Epoch 39/100\n",
      "100/100 - 16s - loss: 0.4568 - accuracy: 0.7930 - val_loss: 0.4335 - val_accuracy: 0.8050\n",
      "Epoch 40/100\n",
      "100/100 - 16s - loss: 0.4647 - accuracy: 0.7855 - val_loss: 0.7507 - val_accuracy: 0.6870\n",
      "Epoch 41/100\n",
      "100/100 - 15s - loss: 0.4378 - accuracy: 0.8025 - val_loss: 0.4657 - val_accuracy: 0.7910\n",
      "Epoch 42/100\n",
      "100/100 - 16s - loss: 0.4539 - accuracy: 0.7880 - val_loss: 0.4467 - val_accuracy: 0.7980\n",
      "Epoch 43/100\n",
      "100/100 - 16s - loss: 0.4547 - accuracy: 0.7885 - val_loss: 0.4682 - val_accuracy: 0.7970\n",
      "Epoch 44/100\n",
      "100/100 - 16s - loss: 0.4323 - accuracy: 0.7990 - val_loss: 0.4313 - val_accuracy: 0.8010\n",
      "Epoch 45/100\n",
      "100/100 - 16s - loss: 0.4640 - accuracy: 0.7830 - val_loss: 0.4732 - val_accuracy: 0.7630\n",
      "Epoch 46/100\n",
      "100/100 - 15s - loss: 0.4619 - accuracy: 0.7930 - val_loss: 0.4306 - val_accuracy: 0.7990\n",
      "Epoch 47/100\n",
      "100/100 - 16s - loss: 0.4514 - accuracy: 0.7905 - val_loss: 0.4617 - val_accuracy: 0.7920\n",
      "Epoch 48/100\n",
      "100/100 - 16s - loss: 0.4447 - accuracy: 0.8010 - val_loss: 0.4853 - val_accuracy: 0.7840\n",
      "Epoch 49/100\n",
      "100/100 - 16s - loss: 0.4389 - accuracy: 0.8035 - val_loss: 0.4597 - val_accuracy: 0.7940\n",
      "Epoch 50/100\n",
      "100/100 - 15s - loss: 0.4294 - accuracy: 0.7905 - val_loss: 0.4362 - val_accuracy: 0.8140\n",
      "Epoch 51/100\n",
      "100/100 - 16s - loss: 0.4471 - accuracy: 0.7960 - val_loss: 0.4708 - val_accuracy: 0.7940\n",
      "Epoch 52/100\n",
      "100/100 - 16s - loss: 0.4281 - accuracy: 0.7985 - val_loss: 0.4501 - val_accuracy: 0.8040\n",
      "Epoch 53/100\n",
      "100/100 - 16s - loss: 0.4366 - accuracy: 0.7990 - val_loss: 0.4714 - val_accuracy: 0.7770\n",
      "Epoch 54/100\n",
      "100/100 - 16s - loss: 0.4260 - accuracy: 0.7950 - val_loss: 0.4108 - val_accuracy: 0.8220\n",
      "Epoch 55/100\n",
      "100/100 - 15s - loss: 0.4461 - accuracy: 0.7985 - val_loss: 0.4309 - val_accuracy: 0.8140\n",
      "Epoch 56/100\n",
      "100/100 - 16s - loss: 0.4085 - accuracy: 0.8155 - val_loss: 0.4560 - val_accuracy: 0.8000\n",
      "Epoch 57/100\n",
      "100/100 - 14s - loss: 0.4284 - accuracy: 0.8060 - val_loss: 0.4505 - val_accuracy: 0.8060\n",
      "Epoch 58/100\n",
      "100/100 - 15s - loss: 0.4207 - accuracy: 0.8095 - val_loss: 0.4616 - val_accuracy: 0.7970\n",
      "Epoch 59/100\n",
      "100/100 - 16s - loss: 0.4230 - accuracy: 0.8075 - val_loss: 0.4350 - val_accuracy: 0.8080\n",
      "Epoch 60/100\n",
      "100/100 - 14s - loss: 0.4384 - accuracy: 0.7950 - val_loss: 0.4381 - val_accuracy: 0.8120\n",
      "Epoch 61/100\n",
      "100/100 - 15s - loss: 0.4183 - accuracy: 0.8150 - val_loss: 0.4411 - val_accuracy: 0.8070\n",
      "Epoch 62/100\n",
      "100/100 - 16s - loss: 0.4205 - accuracy: 0.8035 - val_loss: 0.4384 - val_accuracy: 0.8160\n",
      "Epoch 63/100\n",
      "100/100 - 16s - loss: 0.4207 - accuracy: 0.8130 - val_loss: 0.4173 - val_accuracy: 0.8150\n",
      "Epoch 64/100\n",
      "100/100 - 16s - loss: 0.4209 - accuracy: 0.8175 - val_loss: 0.4555 - val_accuracy: 0.7960\n",
      "Epoch 65/100\n",
      "100/100 - 15s - loss: 0.4254 - accuracy: 0.8040 - val_loss: 0.4047 - val_accuracy: 0.8170\n",
      "Epoch 66/100\n",
      "100/100 - 15s - loss: 0.4227 - accuracy: 0.8050 - val_loss: 0.4244 - val_accuracy: 0.8110\n",
      "Epoch 67/100\n",
      "100/100 - 16s - loss: 0.4223 - accuracy: 0.8040 - val_loss: 0.4659 - val_accuracy: 0.7900\n",
      "Epoch 68/100\n",
      "100/100 - 16s - loss: 0.4228 - accuracy: 0.8145 - val_loss: 0.4170 - val_accuracy: 0.8360\n",
      "Epoch 69/100\n",
      "100/100 - 16s - loss: 0.4115 - accuracy: 0.8185 - val_loss: 0.5796 - val_accuracy: 0.7410\n",
      "Epoch 70/100\n",
      "100/100 - 16s - loss: 0.3880 - accuracy: 0.8245 - val_loss: 0.4507 - val_accuracy: 0.7970\n",
      "Epoch 71/100\n",
      "100/100 - 16s - loss: 0.4194 - accuracy: 0.8180 - val_loss: 0.4540 - val_accuracy: 0.7840\n",
      "Epoch 72/100\n",
      "100/100 - 16s - loss: 0.3969 - accuracy: 0.8205 - val_loss: 0.4428 - val_accuracy: 0.8110\n",
      "Epoch 73/100\n",
      "100/100 - 16s - loss: 0.4222 - accuracy: 0.8090 - val_loss: 0.5654 - val_accuracy: 0.7590\n",
      "Epoch 74/100\n",
      "100/100 - 16s - loss: 0.4103 - accuracy: 0.8140 - val_loss: 0.4205 - val_accuracy: 0.8160\n",
      "Epoch 75/100\n",
      "100/100 - 14s - loss: 0.4115 - accuracy: 0.8115 - val_loss: 0.4777 - val_accuracy: 0.7910\n",
      "Epoch 76/100\n",
      "100/100 - 17s - loss: 0.4000 - accuracy: 0.8235 - val_loss: 0.4223 - val_accuracy: 0.8200\n",
      "Epoch 77/100\n",
      "100/100 - 16s - loss: 0.4028 - accuracy: 0.8120 - val_loss: 0.4626 - val_accuracy: 0.8130\n",
      "Epoch 78/100\n",
      "100/100 - 16s - loss: 0.4077 - accuracy: 0.8180 - val_loss: 0.4987 - val_accuracy: 0.7880\n",
      "Epoch 79/100\n",
      "100/100 - 15s - loss: 0.4021 - accuracy: 0.8150 - val_loss: 0.5139 - val_accuracy: 0.7800\n",
      "Epoch 80/100\n",
      "100/100 - 16s - loss: 0.4205 - accuracy: 0.8070 - val_loss: 0.4080 - val_accuracy: 0.8330\n",
      "Epoch 81/100\n",
      "100/100 - 16s - loss: 0.3877 - accuracy: 0.8260 - val_loss: 0.3992 - val_accuracy: 0.8110\n",
      "Epoch 82/100\n",
      "100/100 - 16s - loss: 0.3898 - accuracy: 0.8145 - val_loss: 0.4674 - val_accuracy: 0.8080\n",
      "Epoch 83/100\n",
      "100/100 - 16s - loss: 0.4065 - accuracy: 0.8165 - val_loss: 0.4326 - val_accuracy: 0.8090\n",
      "Epoch 84/100\n",
      "100/100 - 16s - loss: 0.3991 - accuracy: 0.8290 - val_loss: 0.5013 - val_accuracy: 0.7990\n",
      "Epoch 85/100\n",
      "100/100 - 17s - loss: 0.3884 - accuracy: 0.8230 - val_loss: 0.4533 - val_accuracy: 0.8000\n",
      "Epoch 86/100\n",
      "100/100 - 15s - loss: 0.3980 - accuracy: 0.8190 - val_loss: 0.4140 - val_accuracy: 0.8260\n",
      "Epoch 87/100\n",
      "100/100 - 16s - loss: 0.3997 - accuracy: 0.8200 - val_loss: 0.4961 - val_accuracy: 0.8240\n",
      "Epoch 88/100\n",
      "100/100 - 21s - loss: 0.4100 - accuracy: 0.8160 - val_loss: 0.4206 - val_accuracy: 0.8140\n",
      "Epoch 89/100\n",
      "100/100 - 23s - loss: 0.3874 - accuracy: 0.8265 - val_loss: 0.4126 - val_accuracy: 0.8320\n",
      "Epoch 90/100\n",
      "100/100 - 20s - loss: 0.4018 - accuracy: 0.8130 - val_loss: 0.4451 - val_accuracy: 0.7810\n",
      "Epoch 91/100\n",
      "100/100 - 22s - loss: 0.3838 - accuracy: 0.8345 - val_loss: 0.4030 - val_accuracy: 0.8330\n",
      "Epoch 92/100\n",
      "100/100 - 16s - loss: 0.3865 - accuracy: 0.8280 - val_loss: 0.5752 - val_accuracy: 0.7540\n",
      "Epoch 93/100\n",
      "100/100 - 16s - loss: 0.3787 - accuracy: 0.8275 - val_loss: 0.9381 - val_accuracy: 0.6900\n",
      "Epoch 94/100\n",
      "100/100 - 16s - loss: 0.3900 - accuracy: 0.8290 - val_loss: 0.4570 - val_accuracy: 0.7880\n",
      "Epoch 95/100\n",
      "100/100 - 15s - loss: 0.4018 - accuracy: 0.8190 - val_loss: 0.4052 - val_accuracy: 0.8280\n",
      "Epoch 96/100\n",
      "100/100 - 15s - loss: 0.3692 - accuracy: 0.8375 - val_loss: 0.4203 - val_accuracy: 0.8200\n",
      "Epoch 97/100\n",
      "100/100 - 17s - loss: 0.3818 - accuracy: 0.8290 - val_loss: 0.4503 - val_accuracy: 0.8250\n",
      "Epoch 98/100\n",
      "100/100 - 15s - loss: 0.3916 - accuracy: 0.8340 - val_loss: 0.5761 - val_accuracy: 0.7650\n",
      "Epoch 99/100\n",
      "100/100 - 16s - loss: 0.3857 - accuracy: 0.8300 - val_loss: 0.4011 - val_accuracy: 0.8230\n",
      "Epoch 100/100\n",
      "100/100 - 16s - loss: 0.3705 - accuracy: 0.8340 - val_loss: 0.4083 - val_accuracy: 0.8180\n"
     ]
    }
   ],
   "source": [
    "history = model.fit(train_generator, steps_per_epoch=100, epochs=100, validation_data=validation_generator, validation_steps=50, verbose=2)"
   ]
  },
  {
   "cell_type": "code",
   "execution_count": 60,
   "metadata": {},
   "outputs": [
    {
     "data": {
      "image/png": "[encoded data removed]",
      "text/plain": [
       "<Figure size 432x288 with 1 Axes>"
      ]
     },
     "metadata": {
      "needs_background": "light"
     },
     "output_type": "display_data"
    },
    {
     "data": {
      "image/png": "[encoded data removed]",
      "text/plain": [
       "<Figure size 432x288 with 1 Axes>"
      ]
     },
     "metadata": {
      "needs_background": "light"
     },
     "output_type": "display_data"
    }
   ],
   "source": [
    "acc = history.history['accuracy']\n",
    "val_acc = history.history['val_accuracy']\n",
    "loss = history.history['loss']\n",
    "val_loss = history.history['val_loss']\n",
    "\n",
    "epochs = range(len(acc))\n",
    "\n",
    "plt.plot(epochs, acc, 'bo', label='Training Accuracy')\n",
    "plt.plot(epochs, val_acc, 'b', label='Validation Accuracy')\n",
    "plt.title('Training and validation accuracy')\n",
    "\n",
    "plt.figure()\n",
    "\n",
    "plt.plot(epochs, loss, 'bo', label='Training Loss')\n",
    "plt.plot(epochs, val_loss, 'b', label='Validation Loss')\n",
    "plt.title('Training and validation loss')\n",
    "\n",
    "plt.show()"
   ]
  },
  {
   "cell_type": "code",
   "execution_count": null,
   "metadata": {},
   "outputs": [],
   "source": []
  }
 ],
 "metadata": {
  "kernelspec": {
   "display_name": "Python 3",
   "language": "python",
   "name": "python3"
  },
  "language_info": {
   "codemirror_mode": {
    "name": "ipython",
    "version": 3
   },
   "file_extension": ".py",
   "mimetype": "text/x-python",
   "name": "python",
   "nbconvert_exporter": "python",
   "pygments_lexer": "ipython3",
   "version": "3.6.8"
  }
 },
 "nbformat": 4,
 "nbformat_minor": 4
}
