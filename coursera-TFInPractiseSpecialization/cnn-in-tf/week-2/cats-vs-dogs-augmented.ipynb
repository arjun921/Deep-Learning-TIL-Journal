{
 "cells": [
  {
   "cell_type": "code",
   "execution_count": 1,
   "metadata": {},
   "outputs": [
    {
     "name": "stdout",
     "output_type": "stream",
     "text": [
      "--2020-09-19 09:10:05--  https://storage.googleapis.com/mledu-datasets/cats_and_dogs_filtered.zip\n",
      "Resolving storage.googleapis.com (storage.googleapis.com)... 172.253.122.128, 142.250.73.240, 172.217.13.240, ...\n",
      "Connecting to storage.googleapis.com (storage.googleapis.com)|172.253.122.128|:443... connected.\n",
      "HTTP request sent, awaiting response... 200 OK\n",
      "Length: 68606236 (65M) [application/zip]\n",
      "Saving to: ‘/tmp/cats_and_dogs_filtered.zip’\n",
      "\n",
      "/tmp/cats_and_dogs_ 100%[===================>]  65.43M   125MB/s    in 0.5s    \n",
      "\n",
      "2020-09-19 09:10:06 (125 MB/s) - ‘/tmp/cats_and_dogs_filtered.zip’ saved [68606236/68606236]\n",
      "\n"
     ]
    }
   ],
   "source": [
    "!wget --no-check-certificate \\\n",
    "    https://storage.googleapis.com/mledu-datasets/cats_and_dogs_filtered.zip \\\n",
    "    -O /tmp/cats_and_dogs_filtered.zip"
   ]
  },
  {
   "cell_type": "code",
   "execution_count": 3,
   "metadata": {},
   "outputs": [],
   "source": [
    "import os\n",
    "import zipfile\n",
    "import tensorflow as tf\n",
    "from tensorflow.keras.optimizers import RMSprop\n",
    "from tensorflow.keras.preprocessing.image import ImageDataGenerator\n",
    "from pathlib import Path\n",
    "\n",
    "local_zip = Path('/tmp/cats_and_dogs_filtered.zip')\n",
    "zip_ref = zipfile.ZipFile(local_zip, 'r')\n",
    "zip_ref.extractall('/tmp')\n",
    "zip_ref.close()"
   ]
  },
  {
   "cell_type": "code",
   "execution_count": 4,
   "metadata": {},
   "outputs": [],
   "source": [
    "base_dir = Path('/tmp/cats_and_dogs_filtered')\n",
    "train_dir = base_dir / Path('train')\n",
    "validation_dir = base_dir / Path('validation')"
   ]
  },
  {
   "cell_type": "code",
   "execution_count": 5,
   "metadata": {},
   "outputs": [],
   "source": [
    "train_cats_dir = train_dir / Path('cats')\n",
    "train_dogs_dir = train_dir / Path('dogs')"
   ]
  },
  {
   "cell_type": "code",
   "execution_count": 6,
   "metadata": {},
   "outputs": [],
   "source": [
    "validation_cats_dir = validation_dir / Path('cats')\n",
    "validation_dogs_dir = validation_dir / Path('dogs')"
   ]
  },
  {
   "cell_type": "code",
   "execution_count": 7,
   "metadata": {},
   "outputs": [],
   "source": [
    "from tensorflow.keras.models import Sequential\n",
    "from tensorflow.keras.layers import Conv2D, MaxPool2D, Flatten, Dense"
   ]
  },
  {
   "cell_type": "code",
   "execution_count": 39,
   "metadata": {},
   "outputs": [],
   "source": [
    "model = tf.keras.models.Sequential([\n",
    "    Conv2D(32, (3,3), activation='relu', input_shape=(150,150,3)),\n",
    "    MaxPool2D(2,2),\n",
    "    Conv2D(64, (3,3), activation='relu'),\n",
    "    MaxPool2D(2,2), \n",
    "    Conv2D(128, (3,3), activation='relu'),\n",
    "    MaxPool2D(2,2),\n",
    "    Conv2D(128, (3,3), activation='relu'),\n",
    "    MaxPool2D(2,2),\n",
    "    Flatten(),\n",
    "    Dense(512, activation='relu'),\n",
    "    Dense(1, activation='sigmoid')\n",
    "])"
   ]
  },
  {
   "cell_type": "code",
   "execution_count": 40,
   "metadata": {},
   "outputs": [],
   "source": [
    "model.compile(loss='binary_crossentropy', optimizer=RMSprop(lr=1e-4),metrics=['accuracy'])"
   ]
  },
  {
   "cell_type": "code",
   "execution_count": 41,
   "metadata": {},
   "outputs": [],
   "source": [
    "train_datagen = ImageDataGenerator(rescale=1./255)\n",
    "test_datagen = ImageDataGenerator(rescale=1./255)"
   ]
  },
  {
   "cell_type": "code",
   "execution_count": 42,
   "metadata": {},
   "outputs": [
    {
     "name": "stdout",
     "output_type": "stream",
     "text": [
      "Found 2000 images belonging to 2 classes.\n",
      "Found 1000 images belonging to 2 classes.\n"
     ]
    }
   ],
   "source": [
    "train_generator = train_datagen.flow_from_directory( train_dir, target_size=(150,150), batch_size=20, class_mode='binary')\n",
    "validation_generator = train_datagen.flow_from_directory( validation_dir, target_size=(150,150), batch_size=20, class_mode='binary')"
   ]
  },
  {
   "cell_type": "code",
   "execution_count": 43,
   "metadata": {
    "collapsed": true,
    "jupyter": {
     "outputs_hidden": true
    }
   },
   "outputs": [
    {
     "name": "stdout",
     "output_type": "stream",
     "text": [
      "Epoch 1/100\n",
      "100/100 [==============================] - 8s 78ms/step - loss: 0.6883 - accuracy: 0.5445 - val_loss: 0.6852 - val_accuracy: 0.5030\n",
      "Epoch 2/100\n",
      "100/100 [==============================] - 7s 71ms/step - loss: 0.6576 - accuracy: 0.6070 - val_loss: 0.6397 - val_accuracy: 0.6520\n",
      "Epoch 3/100\n",
      "100/100 [==============================] - 7s 75ms/step - loss: 0.6093 - accuracy: 0.6725 - val_loss: 0.6039 - val_accuracy: 0.6800\n",
      "Epoch 4/100\n",
      "100/100 [==============================] - 8s 75ms/step - loss: 0.5598 - accuracy: 0.7135 - val_loss: 0.5764 - val_accuracy: 0.6920\n",
      "Epoch 5/100\n",
      "100/100 [==============================] - 7s 71ms/step - loss: 0.5221 - accuracy: 0.7510 - val_loss: 0.5764 - val_accuracy: 0.6930\n",
      "Epoch 6/100\n",
      "100/100 [==============================] - 8s 81ms/step - loss: 0.4963 - accuracy: 0.7535 - val_loss: 0.5578 - val_accuracy: 0.7260\n",
      "Epoch 7/100\n",
      "100/100 [==============================] - 8s 79ms/step - loss: 0.4629 - accuracy: 0.7760 - val_loss: 0.5482 - val_accuracy: 0.7370\n",
      "Epoch 8/100\n",
      "100/100 [==============================] - 8s 78ms/step - loss: 0.4364 - accuracy: 0.7975 - val_loss: 0.5521 - val_accuracy: 0.7320\n",
      "Epoch 9/100\n",
      "100/100 [==============================] - 7s 70ms/step - loss: 0.4099 - accuracy: 0.8115 - val_loss: 0.5424 - val_accuracy: 0.7260\n",
      "Epoch 10/100\n",
      "100/100 [==============================] - 8s 78ms/step - loss: 0.3712 - accuracy: 0.8340 - val_loss: 0.5322 - val_accuracy: 0.7430\n",
      "Epoch 11/100\n",
      "100/100 [==============================] - 8s 76ms/step - loss: 0.3572 - accuracy: 0.8450 - val_loss: 0.5439 - val_accuracy: 0.7400\n",
      "Epoch 12/100\n",
      "100/100 [==============================] - 7s 71ms/step - loss: 0.3233 - accuracy: 0.8665 - val_loss: 0.5392 - val_accuracy: 0.7500\n",
      "Epoch 13/100\n",
      "100/100 [==============================] - 7s 74ms/step - loss: 0.3028 - accuracy: 0.8755 - val_loss: 0.6214 - val_accuracy: 0.7220\n",
      "Epoch 14/100\n",
      "100/100 [==============================] - 5s 51ms/step - loss: 0.2706 - accuracy: 0.8935 - val_loss: 0.5825 - val_accuracy: 0.7380\n",
      "Epoch 15/100\n",
      "100/100 [==============================] - 7s 73ms/step - loss: 0.2475 - accuracy: 0.9000 - val_loss: 0.5786 - val_accuracy: 0.7490\n",
      "Epoch 16/100\n",
      "100/100 [==============================] - 7s 69ms/step - loss: 0.2226 - accuracy: 0.9080 - val_loss: 0.6413 - val_accuracy: 0.7310\n",
      "Epoch 17/100\n",
      "100/100 [==============================] - 6s 58ms/step - loss: 0.2044 - accuracy: 0.9245 - val_loss: 0.5898 - val_accuracy: 0.7500\n",
      "Epoch 18/100\n",
      "100/100 [==============================] - 7s 73ms/step - loss: 0.1728 - accuracy: 0.9420 - val_loss: 0.6367 - val_accuracy: 0.7510\n",
      "Epoch 19/100\n",
      "100/100 [==============================] - 6s 63ms/step - loss: 0.1526 - accuracy: 0.9490 - val_loss: 0.6806 - val_accuracy: 0.7610\n",
      "Epoch 20/100\n",
      "100/100 [==============================] - 6s 56ms/step - loss: 0.1375 - accuracy: 0.9490 - val_loss: 0.8612 - val_accuracy: 0.6960\n",
      "Epoch 21/100\n",
      "100/100 [==============================] - 7s 71ms/step - loss: 0.1194 - accuracy: 0.9625 - val_loss: 0.6780 - val_accuracy: 0.7530\n",
      "Epoch 22/100\n",
      "100/100 [==============================] - 6s 60ms/step - loss: 0.0928 - accuracy: 0.9725 - val_loss: 0.8354 - val_accuracy: 0.7360\n",
      "Epoch 23/100\n",
      "100/100 [==============================] - 7s 71ms/step - loss: 0.0866 - accuracy: 0.9720 - val_loss: 0.7831 - val_accuracy: 0.7440\n",
      "Epoch 24/100\n",
      "100/100 [==============================] - 8s 78ms/step - loss: 0.0728 - accuracy: 0.9810 - val_loss: 0.8388 - val_accuracy: 0.7560\n",
      "Epoch 25/100\n",
      "100/100 [==============================] - 7s 74ms/step - loss: 0.0616 - accuracy: 0.9850 - val_loss: 1.0693 - val_accuracy: 0.7010\n",
      "Epoch 26/100\n",
      "100/100 [==============================] - 7s 72ms/step - loss: 0.0594 - accuracy: 0.9840 - val_loss: 0.9564 - val_accuracy: 0.7200\n",
      "Epoch 27/100\n",
      "100/100 [==============================] - 8s 80ms/step - loss: 0.0429 - accuracy: 0.9880 - val_loss: 0.9679 - val_accuracy: 0.7350\n",
      "Epoch 28/100\n",
      "100/100 [==============================] - 7s 69ms/step - loss: 0.0365 - accuracy: 0.9935 - val_loss: 1.1165 - val_accuracy: 0.7210\n",
      "Epoch 29/100\n",
      "100/100 [==============================] - 7s 69ms/step - loss: 0.0324 - accuracy: 0.9915 - val_loss: 1.1638 - val_accuracy: 0.7290\n",
      "Epoch 30/100\n",
      "100/100 [==============================] - 7s 71ms/step - loss: 0.0309 - accuracy: 0.9910 - val_loss: 1.1735 - val_accuracy: 0.7280\n",
      "Epoch 31/100\n",
      "100/100 [==============================] - 8s 77ms/step - loss: 0.0240 - accuracy: 0.9935 - val_loss: 1.1378 - val_accuracy: 0.7400\n",
      "Epoch 32/100\n",
      "100/100 [==============================] - 7s 74ms/step - loss: 0.0208 - accuracy: 0.9935 - val_loss: 1.1974 - val_accuracy: 0.7380\n",
      "Epoch 33/100\n",
      "100/100 [==============================] - 6s 57ms/step - loss: 0.0223 - accuracy: 0.9935 - val_loss: 1.5531 - val_accuracy: 0.6970\n",
      "Epoch 34/100\n",
      "100/100 [==============================] - 7s 67ms/step - loss: 0.0206 - accuracy: 0.9935 - val_loss: 1.2229 - val_accuracy: 0.7430\n",
      "Epoch 35/100\n",
      "100/100 [==============================] - 7s 73ms/step - loss: 0.0151 - accuracy: 0.9960 - val_loss: 1.2711 - val_accuracy: 0.7330\n",
      "Epoch 36/100\n",
      "100/100 [==============================] - 7s 72ms/step - loss: 0.0140 - accuracy: 0.9960 - val_loss: 1.3673 - val_accuracy: 0.7360\n",
      "Epoch 37/100\n",
      "100/100 [==============================] - 8s 77ms/step - loss: 0.0147 - accuracy: 0.9965 - val_loss: 1.4009 - val_accuracy: 0.7450\n",
      "Epoch 38/100\n",
      "100/100 [==============================] - 6s 62ms/step - loss: 0.0200 - accuracy: 0.9945 - val_loss: 1.4289 - val_accuracy: 0.7340\n",
      "Epoch 39/100\n",
      "100/100 [==============================] - 6s 63ms/step - loss: 0.0121 - accuracy: 0.9950 - val_loss: 1.3939 - val_accuracy: 0.7190\n",
      "Epoch 40/100\n",
      "100/100 [==============================] - 8s 78ms/step - loss: 0.0066 - accuracy: 0.9995 - val_loss: 1.5582 - val_accuracy: 0.7300\n",
      "Epoch 41/100\n",
      "100/100 [==============================] - 7s 72ms/step - loss: 0.0198 - accuracy: 0.9935 - val_loss: 1.5138 - val_accuracy: 0.7330\n",
      "Epoch 42/100\n",
      "100/100 [==============================] - 7s 74ms/step - loss: 0.0126 - accuracy: 0.9975 - val_loss: 1.5120 - val_accuracy: 0.7410\n",
      "Epoch 43/100\n",
      "100/100 [==============================] - 7s 72ms/step - loss: 0.0114 - accuracy: 0.9975 - val_loss: 1.5457 - val_accuracy: 0.7300\n",
      "Epoch 44/100\n",
      "100/100 [==============================] - 7s 73ms/step - loss: 0.0177 - accuracy: 0.9940 - val_loss: 1.5410 - val_accuracy: 0.7170\n",
      "Epoch 45/100\n",
      "100/100 [==============================] - 7s 67ms/step - loss: 0.0064 - accuracy: 0.9985 - val_loss: 1.6736 - val_accuracy: 0.7330\n",
      "Epoch 46/100\n",
      "100/100 [==============================] - 7s 71ms/step - loss: 0.0081 - accuracy: 0.9965 - val_loss: 1.8246 - val_accuracy: 0.7080\n",
      "Epoch 47/100\n",
      "100/100 [==============================] - 7s 68ms/step - loss: 0.0065 - accuracy: 0.9990 - val_loss: 1.6741 - val_accuracy: 0.7250\n",
      "Epoch 48/100\n",
      "100/100 [==============================] - 7s 66ms/step - loss: 0.0084 - accuracy: 0.9965 - val_loss: 1.7010 - val_accuracy: 0.7290\n",
      "Epoch 49/100\n",
      "100/100 [==============================] - 8s 79ms/step - loss: 0.0060 - accuracy: 0.9985 - val_loss: 1.8215 - val_accuracy: 0.7290\n",
      "Epoch 50/100\n",
      "100/100 [==============================] - 7s 70ms/step - loss: 0.0044 - accuracy: 0.9985 - val_loss: 1.8861 - val_accuracy: 0.7120\n",
      "Epoch 51/100\n",
      "100/100 [==============================] - 7s 72ms/step - loss: 0.0059 - accuracy: 0.9985 - val_loss: 1.7768 - val_accuracy: 0.7350\n",
      "Epoch 52/100\n",
      "100/100 [==============================] - 7s 73ms/step - loss: 0.0084 - accuracy: 0.9980 - val_loss: 1.7838 - val_accuracy: 0.7320\n",
      "Epoch 53/100\n",
      "100/100 [==============================] - 7s 72ms/step - loss: 0.0109 - accuracy: 0.9960 - val_loss: 1.9760 - val_accuracy: 0.7330\n",
      "Epoch 54/100\n",
      "100/100 [==============================] - 7s 70ms/step - loss: 0.0141 - accuracy: 0.9960 - val_loss: 1.8749 - val_accuracy: 0.7240\n",
      "Epoch 55/100\n",
      "100/100 [==============================] - 6s 62ms/step - loss: 0.0049 - accuracy: 0.9990 - val_loss: 1.8637 - val_accuracy: 0.7400\n",
      "Epoch 56/100\n",
      "100/100 [==============================] - 7s 71ms/step - loss: 0.0124 - accuracy: 0.9990 - val_loss: 1.8966 - val_accuracy: 0.7320\n",
      "Epoch 57/100\n",
      "100/100 [==============================] - 6s 63ms/step - loss: 0.0119 - accuracy: 0.9960 - val_loss: 1.9305 - val_accuracy: 0.7370\n",
      "Epoch 58/100\n",
      "100/100 [==============================] - 5s 53ms/step - loss: 8.4787e-04 - accuracy: 1.0000 - val_loss: 1.9671 - val_accuracy: 0.7340\n",
      "Epoch 59/100\n",
      "100/100 [==============================] - 5s 49ms/step - loss: 0.0096 - accuracy: 0.9970 - val_loss: 1.9562 - val_accuracy: 0.7440\n",
      "Epoch 60/100\n",
      "100/100 [==============================] - 5s 53ms/step - loss: 0.0059 - accuracy: 0.9975 - val_loss: 1.8956 - val_accuracy: 0.7410\n",
      "Epoch 61/100\n",
      "100/100 [==============================] - 6s 55ms/step - loss: 0.0072 - accuracy: 0.9985 - val_loss: 1.9236 - val_accuracy: 0.7380\n",
      "Epoch 62/100\n",
      "100/100 [==============================] - 5s 50ms/step - loss: 0.0029 - accuracy: 0.9995 - val_loss: 1.9217 - val_accuracy: 0.7420\n",
      "Epoch 63/100\n",
      "100/100 [==============================] - 6s 58ms/step - loss: 0.0101 - accuracy: 0.9955 - val_loss: 2.0145 - val_accuracy: 0.7250\n",
      "Epoch 64/100\n",
      "100/100 [==============================] - 6s 58ms/step - loss: 0.0032 - accuracy: 0.9985 - val_loss: 2.1036 - val_accuracy: 0.7190\n",
      "Epoch 65/100\n",
      "100/100 [==============================] - 5s 54ms/step - loss: 2.2475e-04 - accuracy: 1.0000 - val_loss: 2.1271 - val_accuracy: 0.7420\n",
      "Epoch 66/100\n",
      "100/100 [==============================] - 6s 59ms/step - loss: 0.0075 - accuracy: 0.9985 - val_loss: 3.3734 - val_accuracy: 0.6730\n",
      "Epoch 67/100\n",
      "100/100 [==============================] - 6s 57ms/step - loss: 0.0082 - accuracy: 0.9975 - val_loss: 2.0520 - val_accuracy: 0.7330\n",
      "Epoch 68/100\n",
      "100/100 [==============================] - 5s 48ms/step - loss: 0.0027 - accuracy: 0.9985 - val_loss: 2.0756 - val_accuracy: 0.7240\n",
      "Epoch 69/100\n",
      "100/100 [==============================] - 5s 52ms/step - loss: 0.0036 - accuracy: 0.9985 - val_loss: 2.1422 - val_accuracy: 0.7220\n",
      "Epoch 70/100\n",
      "100/100 [==============================] - 6s 59ms/step - loss: 0.0046 - accuracy: 0.9970 - val_loss: 2.2852 - val_accuracy: 0.7150\n",
      "Epoch 71/100\n",
      "100/100 [==============================] - 6s 56ms/step - loss: 0.0064 - accuracy: 0.9990 - val_loss: 2.2759 - val_accuracy: 0.7210\n",
      "Epoch 72/100\n",
      "100/100 [==============================] - 5s 52ms/step - loss: 0.0053 - accuracy: 0.9985 - val_loss: 2.1993 - val_accuracy: 0.7330\n",
      "Epoch 73/100\n",
      "100/100 [==============================] - 5s 46ms/step - loss: 0.0043 - accuracy: 0.9990 - val_loss: 2.2214 - val_accuracy: 0.7240\n",
      "Epoch 74/100\n",
      "100/100 [==============================] - 5s 45ms/step - loss: 0.0053 - accuracy: 0.9985 - val_loss: 2.2825 - val_accuracy: 0.7160\n",
      "Epoch 75/100\n",
      "100/100 [==============================] - 6s 55ms/step - loss: 0.0154 - accuracy: 0.9965 - val_loss: 2.0969 - val_accuracy: 0.7210\n",
      "Epoch 76/100\n",
      "100/100 [==============================] - 6s 55ms/step - loss: 0.0174 - accuracy: 0.9985 - val_loss: 2.1340 - val_accuracy: 0.7090\n",
      "Epoch 77/100\n",
      "100/100 [==============================] - 5s 48ms/step - loss: 1.1880e-04 - accuracy: 1.0000 - val_loss: 2.5619 - val_accuracy: 0.7080\n",
      "Epoch 78/100\n",
      "100/100 [==============================] - 6s 60ms/step - loss: 0.0058 - accuracy: 0.9970 - val_loss: 2.2391 - val_accuracy: 0.7350\n",
      "Epoch 79/100\n",
      "100/100 [==============================] - 5s 46ms/step - loss: 0.0052 - accuracy: 0.9970 - val_loss: 2.1933 - val_accuracy: 0.7190\n",
      "Epoch 80/100\n",
      "100/100 [==============================] - 5s 54ms/step - loss: 0.0093 - accuracy: 0.9980 - val_loss: 2.2922 - val_accuracy: 0.7360\n",
      "Epoch 81/100\n",
      "100/100 [==============================] - 6s 55ms/step - loss: 4.9372e-05 - accuracy: 1.0000 - val_loss: 2.3704 - val_accuracy: 0.7220\n",
      "Epoch 82/100\n",
      "100/100 [==============================] - 5s 49ms/step - loss: 0.0075 - accuracy: 0.9985 - val_loss: 2.4421 - val_accuracy: 0.7170\n",
      "Epoch 83/100\n",
      "100/100 [==============================] - 6s 58ms/step - loss: 0.0049 - accuracy: 0.9990 - val_loss: 2.5440 - val_accuracy: 0.7290\n",
      "Epoch 84/100\n",
      "100/100 [==============================] - 5s 53ms/step - loss: 2.7988e-04 - accuracy: 1.0000 - val_loss: 2.7412 - val_accuracy: 0.7140\n",
      "Epoch 85/100\n",
      "100/100 [==============================] - 5s 47ms/step - loss: 0.0088 - accuracy: 0.9980 - val_loss: 2.3626 - val_accuracy: 0.7430\n",
      "Epoch 86/100\n",
      "100/100 [==============================] - 5s 55ms/step - loss: 0.0041 - accuracy: 0.9990 - val_loss: 2.5079 - val_accuracy: 0.7250\n",
      "Epoch 87/100\n",
      "100/100 [==============================] - 6s 60ms/step - loss: 1.1130e-05 - accuracy: 1.0000 - val_loss: 3.0102 - val_accuracy: 0.7030\n",
      "Epoch 88/100\n",
      "100/100 [==============================] - 5s 53ms/step - loss: 0.0085 - accuracy: 0.9975 - val_loss: 2.6779 - val_accuracy: 0.7160\n",
      "Epoch 89/100\n",
      "100/100 [==============================] - 5s 54ms/step - loss: 0.0178 - accuracy: 0.9975 - val_loss: 2.6983 - val_accuracy: 0.7280\n",
      "Epoch 90/100\n",
      "100/100 [==============================] - 5s 47ms/step - loss: 0.0018 - accuracy: 0.9995 - val_loss: 2.6139 - val_accuracy: 0.7270\n",
      "Epoch 91/100\n",
      "100/100 [==============================] - 6s 56ms/step - loss: 0.0178 - accuracy: 0.9975 - val_loss: 2.6708 - val_accuracy: 0.7150\n",
      "Epoch 92/100\n",
      "100/100 [==============================] - 6s 65ms/step - loss: 3.4642e-04 - accuracy: 1.0000 - val_loss: 3.1820 - val_accuracy: 0.6990\n",
      "Epoch 93/100\n",
      "100/100 [==============================] - 6s 58ms/step - loss: 0.0030 - accuracy: 0.9985 - val_loss: 2.5848 - val_accuracy: 0.7330\n",
      "Epoch 94/100\n",
      "100/100 [==============================] - 5s 47ms/step - loss: 0.0040 - accuracy: 0.9995 - val_loss: 2.5496 - val_accuracy: 0.7150\n",
      "Epoch 95/100\n",
      "100/100 [==============================] - 6s 56ms/step - loss: 0.0011 - accuracy: 0.9995 - val_loss: 2.7631 - val_accuracy: 0.7230\n",
      "Epoch 96/100\n",
      "100/100 [==============================] - 5s 54ms/step - loss: 0.0028 - accuracy: 0.9985 - val_loss: 2.7848 - val_accuracy: 0.7230\n",
      "Epoch 97/100\n",
      "100/100 [==============================] - 5s 52ms/step - loss: 0.0013 - accuracy: 1.0000 - val_loss: 2.6629 - val_accuracy: 0.7270\n",
      "Epoch 98/100\n",
      "100/100 [==============================] - 5s 51ms/step - loss: 2.2045e-04 - accuracy: 1.0000 - val_loss: 2.7683 - val_accuracy: 0.7290\n",
      "Epoch 99/100\n",
      "100/100 [==============================] - 5s 47ms/step - loss: 0.0034 - accuracy: 0.9985 - val_loss: 3.1801 - val_accuracy: 0.7110\n",
      "Epoch 100/100\n",
      "100/100 [==============================] - 6s 62ms/step - loss: 1.5230e-04 - accuracy: 1.0000 - val_loss: 2.7897 - val_accuracy: 0.7260\n"
     ]
    }
   ],
   "source": [
    "history = model.fit(train_generator, steps_per_epoch=100, epochs=100, validahistoryata=validation_generator, validation_steps=50)"
   ]
  },
  {
   "cell_type": "code",
   "execution_count": 46,
   "metadata": {},
   "outputs": [],
   "source": [
    "import matplotlib.pyplot as plt\n",
    "acc = history.history['accuracy']\n",
    "val_acc = history.history['val_accuracy']\n",
    "loss = history.history['loss']\n",
    "val_loss = history.history['val_loss']"
   ]
  },
  {
   "cell_type": "code",
   "execution_count": 47,
   "metadata": {},
   "outputs": [],
   "source": [
    "epochs = range(len(acc))"
   ]
  },
  {
   "cell_type": "code",
   "execution_count": 50,
   "metadata": {},
   "outputs": [
    {
     "data": {
      "image/png": "[encoded data removed]",
      "text/plain": [
       "<Figure size 432x288 with 1 Axes>"
      ]
     },
     "metadata": {
      "needs_background": "light"
     },
     "output_type": "display_data"
    },
    {
     "data": {
      "image/png": "[encoded data removed]",
      "text/plain": [
       "<Figure size 432x288 with 1 Axes>"
      ]
     },
     "metadata": {
      "needs_background": "light"
     },
     "output_type": "display_data"
    }
   ],
   "source": [
    "plt.plot(epochs, acc, 'bo', label='Training Accuracy')\n",
    "plt.plot(epochs, val_acc, 'b', label='Validation Accuracy')\n",
    "plt.title('Training and validation accuracy')\n",
    "\n",
    "plt.figure()\n",
    "\n",
    "plt.plot(epochs, loss, 'bo', label='Training Loss')\n",
    "plt.plot(epochs, val_loss, 'b', label='Validation Loss')\n",
    "plt.title('Training and validation loss')\n",
    "\n",
    "plt.show()"
   ]
  },
  {
   "cell_type": "code",
   "execution_count": null,
   "metadata": {},
   "outputs": [],
   "source": []
  }
 ],
 "metadata": {
  "kernelspec": {
   "display_name": "Python 3",
   "language": "python",
   "name": "python3"
  },
  "language_info": {
   "codemirror_mode": {
    "name": "ipython",
    "version": 3
   },
   "file_extension": ".py",
   "mimetype": "text/x-python",
   "name": "python",
   "nbconvert_exporter": "python",
   "pygments_lexer": "ipython3",
   "version": "3.6.8"
  }
 },
 "nbformat": 4,
 "nbformat_minor": 4
}
