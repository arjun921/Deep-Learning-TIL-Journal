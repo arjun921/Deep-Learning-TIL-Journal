{
 "cells": [
  {
   "cell_type": "code",
   "execution_count": 1,
   "metadata": {},
   "outputs": [
    {
     "name": "stdout",
     "output_type": "stream",
     "text": [
      "--2020-09-20 06:23:01--  https://storage.googleapis.com/mledu-datasets/inception_v3_weights_tf_dim_ordering_tf_kernels_notop.h5\n",
      "Resolving storage.googleapis.com (storage.googleapis.com)... 172.217.13.80, 172.217.164.176, 172.217.9.208, ...\n",
      "Connecting to storage.googleapis.com (storage.googleapis.com)|172.217.13.80|:443... connected.\n",
      "HTTP request sent, awaiting response... 200 OK\n",
      "Length: 87910968 (84M) [application/x-hdf]\n",
      "Saving to: ‘/tmp/inception_v3_weights_tf_dim_ordering_tf_kernels_notop.h5’\n",
      "\n",
      "/tmp/inception_v3_w 100%[===================>]  83.84M  71.1MB/s    in 1.2s    \n",
      "\n",
      "2020-09-20 06:23:02 (71.1 MB/s) - ‘/tmp/inception_v3_weights_tf_dim_ordering_tf_kernels_notop.h5’ saved [87910968/87910968]\n",
      "\n"
     ]
    }
   ],
   "source": [
    "\n",
    "import os\n",
    "\n",
    "from tensorflow.keras import layers\n",
    "from tensorflow.keras import Model\n",
    "\n",
    "!wget --no-check-certificate \\\n",
    "    https://storage.googleapis.com/mledu-datasets/inception_v3_weights_tf_dim_ordering_tf_kernels_notop.h5 \\\n",
    "    -O /tmp/inception_v3_weights_tf_dim_ordering_tf_kernels_notop.h5\n",
    "  \n",
    "from tensorflow.keras.applications.inception_v3 import InceptionV3\n"
   ]
  },
  {
   "cell_type": "code",
   "execution_count": 84,
   "metadata": {},
   "outputs": [],
   "source": [
    "local_weights_file = '/tmp/inception_v3_weights_tf_dim_ordering_tf_kernels_notop.h5'\n",
    "pre_trained_model = InceptionV3(input_shape=(150,150,3), include_top=False, weights='imagenet')"
   ]
  },
  {
   "cell_type": "code",
   "execution_count": 85,
   "metadata": {},
   "outputs": [],
   "source": [
    "for layer in pre_trained_model.layers:\n",
    "    layer.trainable = False"
   ]
  },
  {
   "cell_type": "code",
   "execution_count": 86,
   "metadata": {},
   "outputs": [
    {
     "name": "stdout",
     "output_type": "stream",
     "text": [
      "last layer output shape:  (None, 7, 7, 768)\n"
     ]
    }
   ],
   "source": [
    "last_layer = pre_trained_model.get_layer('mixed7')\n",
    "print('last layer output shape: ', last_layer.output_shape)\n",
    "last_output = last_layer.output"
   ]
  },
  {
   "cell_type": "code",
   "execution_count": 87,
   "metadata": {},
   "outputs": [],
   "source": [
    "from tensorflow.keras.optimizers import RMSprop"
   ]
  },
  {
   "cell_type": "code",
   "execution_count": 88,
   "metadata": {},
   "outputs": [],
   "source": [
    "# Flatten output to 1d \n",
    "x = layers.Flatten()(last_output)\n",
    "# Adding fully connected layer\n",
    "x = layers.Dense(1024, activation='relu')(x)\n",
    "x = layers.Dropout(0.2)(x)\n",
    "x = layers.Dense(1,activation='sigmoid')(x)\n",
    "\n",
    "model = Model(pre_trained_model.input, x)"
   ]
  },
  {
   "cell_type": "code",
   "execution_count": 89,
   "metadata": {},
   "outputs": [],
   "source": [
    "model.compile(optimizer=RMSprop(lr=0.0001), loss = 'binary_crossentropy', metrics = ['accuracy'])"
   ]
  },
  {
   "cell_type": "code",
   "execution_count": 90,
   "metadata": {},
   "outputs": [
    {
     "name": "stdout",
     "output_type": "stream",
     "text": [
      "--2020-09-20 06:49:52--  https://storage.googleapis.com/mledu-datasets/cats_and_dogs_filtered.zip\n",
      "Resolving storage.googleapis.com (storage.googleapis.com)... 142.250.73.208, 172.217.13.80, 172.217.8.16, ...\n",
      "Connecting to storage.googleapis.com (storage.googleapis.com)|142.250.73.208|:443... connected.\n",
      "HTTP request sent, awaiting response... 200 OK\n",
      "Length: 68606236 (65M) [application/zip]\n",
      "Saving to: ‘/tmp/cats_and_dogs_filtered.zip’\n",
      "\n",
      "/tmp/cats_and_dogs_ 100%[===================>]  65.43M   127MB/s    in 0.5s    \n",
      "\n",
      "2020-09-20 06:49:53 (127 MB/s) - ‘/tmp/cats_and_dogs_filtered.zip’ saved [68606236/68606236]\n",
      "\n"
     ]
    }
   ],
   "source": [
    "!wget --no-check-certificate \\\n",
    "        https://storage.googleapis.com/mledu-datasets/cats_and_dogs_filtered.zip \\\n",
    "       -O /tmp/cats_and_dogs_filtered.zip\n"
   ]
  },
  {
   "cell_type": "code",
   "execution_count": 91,
   "metadata": {},
   "outputs": [],
   "source": [
    "from tensorflow.keras.preprocessing.image import ImageDataGenerator\n",
    "\n",
    "import os \n",
    "import zipfile"
   ]
  },
  {
   "cell_type": "code",
   "execution_count": 92,
   "metadata": {},
   "outputs": [],
   "source": [
    "local_zip = '/tmp/cats_and_dogs_filtered.zip'\n",
    "zip_ref = zipfile.ZipFile(local_zip, 'r')\n",
    "\n",
    "zip_ref.extractall('/tmp')\n",
    "zip_ref.close()"
   ]
  },
  {
   "cell_type": "code",
   "execution_count": 93,
   "metadata": {},
   "outputs": [],
   "source": [
    "from pathlib import Path\n",
    "\n",
    "base_dir = Path('/tmp/cats_and_dogs_filtered/')"
   ]
  },
  {
   "cell_type": "code",
   "execution_count": 94,
   "metadata": {},
   "outputs": [],
   "source": [
    "base_dir = Path('/tmp/cats_and_dogs_filtered')\n",
    "train_dir = base_dir / Path('train')\n",
    "validation_dir = base_dir / Path('validation')"
   ]
  },
  {
   "cell_type": "code",
   "execution_count": 95,
   "metadata": {},
   "outputs": [],
   "source": [
    "# train_cats_dir = train_dir / Path('cats')\n",
    "# train_dogs_dir = train_dir / Path('dogs')\n",
    "\n",
    "# validation_cats_dir = validation_dir / Path('cats')\n",
    "# validation_dogs_dir = validation_dir / Path('dogs')"
   ]
  },
  {
   "cell_type": "code",
   "execution_count": 96,
   "metadata": {},
   "outputs": [],
   "source": [
    "train_datagen = ImageDataGenerator(rescale=1./255., \n",
    "                                  rotation_range = 40,\n",
    "                                  width_shift_range = 0.2,\n",
    "                                  height_shift_range = 0.2,\n",
    "                                  shear_range = 0.2,\n",
    "                                  zoom_range = 0.2,\n",
    "                                  horizontal_flip = True)"
   ]
  },
  {
   "cell_type": "code",
   "execution_count": 97,
   "metadata": {},
   "outputs": [],
   "source": [
    "validation_datagen = ImageDataGenerator(rescale=1./255.)"
   ]
  },
  {
   "cell_type": "code",
   "execution_count": 98,
   "metadata": {},
   "outputs": [
    {
     "name": "stdout",
     "output_type": "stream",
     "text": [
      "Found 2000 images belonging to 2 classes.\n"
     ]
    }
   ],
   "source": [
    "train_generator = train_datagen.flow_from_directory(train_dir, batch_size = 20, class_mode = 'binary',\n",
    "                                                   target_size=(150,150))"
   ]
  },
  {
   "cell_type": "code",
   "execution_count": 99,
   "metadata": {},
   "outputs": [
    {
     "name": "stdout",
     "output_type": "stream",
     "text": [
      "Found 1000 images belonging to 2 classes.\n"
     ]
    }
   ],
   "source": [
    "validation_generator = validation_datagen.flow_from_directory(validation_dir, batch_size=20, class_mode='binary', target_size=(150,150))"
   ]
  },
  {
   "cell_type": "code",
   "execution_count": 100,
   "metadata": {},
   "outputs": [
    {
     "name": "stdout",
     "output_type": "stream",
     "text": [
      "Epoch 1/20\n",
      "100/100 - 15s - loss: 0.3699 - accuracy: 0.8550 - val_loss: 0.1081 - val_accuracy: 0.9560\n",
      "Epoch 2/20\n",
      "100/100 - 14s - loss: 0.2186 - accuracy: 0.9110 - val_loss: 0.1533 - val_accuracy: 0.9430\n",
      "Epoch 3/20\n",
      "100/100 - 14s - loss: 0.1862 - accuracy: 0.9285 - val_loss: 0.1049 - val_accuracy: 0.9630\n",
      "Epoch 4/20\n",
      "100/100 - 14s - loss: 0.1879 - accuracy: 0.9285 - val_loss: 0.1143 - val_accuracy: 0.9620\n",
      "Epoch 5/20\n",
      "100/100 - 14s - loss: 0.2010 - accuracy: 0.9375 - val_loss: 0.1731 - val_accuracy: 0.9410\n",
      "Epoch 6/20\n",
      "100/100 - 14s - loss: 0.1968 - accuracy: 0.9420 - val_loss: 0.1105 - val_accuracy: 0.9660\n",
      "Epoch 7/20\n",
      "100/100 - 14s - loss: 0.1774 - accuracy: 0.9390 - val_loss: 0.1162 - val_accuracy: 0.9610\n",
      "Epoch 8/20\n",
      "100/100 - 14s - loss: 0.1726 - accuracy: 0.9390 - val_loss: 0.1306 - val_accuracy: 0.9610\n",
      "Epoch 9/20\n",
      "100/100 - 14s - loss: 0.1588 - accuracy: 0.9435 - val_loss: 0.1253 - val_accuracy: 0.9570\n",
      "Epoch 10/20\n",
      "100/100 - 14s - loss: 0.1553 - accuracy: 0.9435 - val_loss: 0.1730 - val_accuracy: 0.9560\n",
      "Epoch 11/20\n",
      "100/100 - 14s - loss: 0.1581 - accuracy: 0.9465 - val_loss: 0.1383 - val_accuracy: 0.9650\n",
      "Epoch 12/20\n",
      "100/100 - 14s - loss: 0.1525 - accuracy: 0.9515 - val_loss: 0.1157 - val_accuracy: 0.9630\n",
      "Epoch 13/20\n",
      "100/100 - 14s - loss: 0.1365 - accuracy: 0.9530 - val_loss: 0.1626 - val_accuracy: 0.9540\n",
      "Epoch 14/20\n",
      "100/100 - 14s - loss: 0.1797 - accuracy: 0.9430 - val_loss: 0.1426 - val_accuracy: 0.9610\n",
      "Epoch 15/20\n",
      "100/100 - 14s - loss: 0.1154 - accuracy: 0.9605 - val_loss: 0.1304 - val_accuracy: 0.9700\n",
      "Epoch 16/20\n",
      "100/100 - 14s - loss: 0.1237 - accuracy: 0.9570 - val_loss: 0.1186 - val_accuracy: 0.9730\n",
      "Epoch 17/20\n",
      "100/100 - 14s - loss: 0.1447 - accuracy: 0.9480 - val_loss: 0.1070 - val_accuracy: 0.9720\n",
      "Epoch 18/20\n",
      "100/100 - 14s - loss: 0.1494 - accuracy: 0.9485 - val_loss: 0.1112 - val_accuracy: 0.9670\n",
      "Epoch 19/20\n",
      "100/100 - 14s - loss: 0.1343 - accuracy: 0.9525 - val_loss: 0.1342 - val_accuracy: 0.9710\n",
      "Epoch 20/20\n",
      "100/100 - 14s - loss: 0.1327 - accuracy: 0.9575 - val_loss: 0.1270 - val_accuracy: 0.9610\n"
     ]
    }
   ],
   "source": [
    "history = model.fit(train_generator, validation_data = validation_generator, steps_per_epoch=100, epochs=20, validation_steps=50, verbose=2)"
   ]
  },
  {
   "cell_type": "code",
   "execution_count": 101,
   "metadata": {},
   "outputs": [
    {
     "data": {
      "image/png": "[encoded data removed]",
      "text/plain": [
       "<Figure size 432x288 with 1 Axes>"
      ]
     },
     "metadata": {
      "needs_background": "light"
     },
     "output_type": "display_data"
    },
    {
     "data": {
      "text/plain": [
       "<Figure size 432x288 with 0 Axes>"
      ]
     },
     "metadata": {},
     "output_type": "display_data"
    }
   ],
   "source": [
    "import matplotlib.pyplot as plt\n",
    "acc = history.history['accuracy']\n",
    "val_acc = history.history['val_accuracy']\n",
    "loss = history.history['loss']\n",
    "val_loss = history.history['val_loss']\n",
    "\n",
    "epochs = range(len(acc))\n",
    "\n",
    "plt.plot(epochs, acc, 'r', label='Training accuracy')\n",
    "plt.plot(epochs, val_acc, 'b', label='Validation accuracy')\n",
    "plt.title('Training and validation accuracy')\n",
    "plt.legend(loc=0)\n",
    "plt.figure()\n",
    "\n",
    "\n",
    "plt.show()"
   ]
  },
  {
   "cell_type": "code",
   "execution_count": 103,
   "metadata": {},
   "outputs": [
    {
     "data": {
      "image/png": "[encoded data removed]",
      "text/plain": [
       "<Figure size 432x288 with 1 Axes>"
      ]
     },
     "metadata": {
      "needs_background": "light"
     },
     "output_type": "display_data"
    },
    {
     "data": {
      "text/plain": [
       "<Figure size 432x288 with 0 Axes>"
      ]
     },
     "metadata": {},
     "output_type": "display_data"
    }
   ],
   "source": [
    "plt.plot(epochs, loss, 'r', label='Training accuracy')\n",
    "plt.plot(epochs, val_loss, 'b', label='Validation accuracy')\n",
    "plt.title('Training and validation accuracy')\n",
    "plt.legend(loc=0)\n",
    "plt.figure()\n",
    "\n",
    "\n",
    "plt.show()"
   ]
  },
  {
   "cell_type": "code",
   "execution_count": null,
   "metadata": {},
   "outputs": [],
   "source": []
  }
 ],
 "metadata": {
  "kernelspec": {
   "display_name": "Python 3",
   "language": "python",
   "name": "python3"
  },
  "language_info": {
   "codemirror_mode": {
    "name": "ipython",
    "version": 3
   },
   "file_extension": ".py",
   "mimetype": "text/x-python",
   "name": "python",
   "nbconvert_exporter": "python",
   "pygments_lexer": "ipython3",
   "version": "3.6.8"
  }
 },
 "nbformat": 4,
 "nbformat_minor": 4
}
