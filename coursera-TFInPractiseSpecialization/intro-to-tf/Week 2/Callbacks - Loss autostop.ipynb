{
 "cells": [
  {
   "cell_type": "code",
   "execution_count": 1,
   "metadata": {},
   "outputs": [],
   "source": [
    "import tensorflow as tf"
   ]
  },
  {
   "cell_type": "code",
   "execution_count": 2,
   "metadata": {},
   "outputs": [],
   "source": [
    "tf.debugging.set_log_device_placement(True)"
   ]
  },
  {
   "cell_type": "code",
   "execution_count": 3,
   "metadata": {},
   "outputs": [
    {
     "name": "stdout",
     "output_type": "stream",
     "text": [
      "Default GPU Device:/device:GPU:0\n"
     ]
    }
   ],
   "source": [
    "if tf.test.gpu_device_name(): \n",
    "    print('Default GPU Device:{}'.format(tf.test.gpu_device_name()))\n",
    "else:\n",
    "    print(\"Please install GPU version of TF\")"
   ]
  },
  {
   "cell_type": "code",
   "execution_count": 4,
   "metadata": {},
   "outputs": [],
   "source": [
    "class StopLoss(tf.keras.callbacks.Callback):\n",
    "    def on_epoch_end(self, epoch, logs={}):\n",
    "        if logs.get('loss')<0.1:\n",
    "            print('\\nAccuracy reached 90%, cancelled training!')\n",
    "            self.model.stop_training = True\n",
    "callbacks = StopLoss()"
   ]
  },
  {
   "cell_type": "code",
   "execution_count": 5,
   "metadata": {},
   "outputs": [],
   "source": [
    "fmnist = tf.keras.datasets.fashion_mnist"
   ]
  },
  {
   "cell_type": "code",
   "execution_count": 6,
   "metadata": {},
   "outputs": [],
   "source": [
    "(training_images, training_labels), (test_images, test_labels) = fmnist.load_data()"
   ]
  },
  {
   "cell_type": "code",
   "execution_count": 7,
   "metadata": {},
   "outputs": [],
   "source": [
    "# normalization\n",
    "training_images=training_images/255.0\n",
    "test_images=test_images/255.0"
   ]
  },
  {
   "cell_type": "code",
   "execution_count": 29,
   "metadata": {},
   "outputs": [],
   "source": [
    "model = tf.keras.models.Sequential([\n",
    "    tf.keras.layers.Flatten(),\n",
    "    tf.keras.layers.Dense(1024,activation=tf.nn.relu),\n",
    "    tf.keras.layers.Dense(10,activation=tf.nn.softmax)\n",
    "])"
   ]
  },
  {
   "cell_type": "code",
   "execution_count": 30,
   "metadata": {
    "scrolled": false
   },
   "outputs": [
    {
     "name": "stdout",
     "output_type": "stream",
     "text": [
      "Executing op VarHandleOp in device /job:localhost/replica:0/task:0/device:GPU:0\n",
      "Executing op RangeDataset in device /job:localhost/replica:0/task:0/device:CPU:0\n",
      "Executing op RepeatDataset in device /job:localhost/replica:0/task:0/device:CPU:0\n",
      "Executing op MapDataset in device /job:localhost/replica:0/task:0/device:CPU:0\n",
      "Executing op PrefetchDataset in device /job:localhost/replica:0/task:0/device:CPU:0\n",
      "Executing op FlatMapDataset in device /job:localhost/replica:0/task:0/device:CPU:0\n",
      "Executing op TensorDataset in device /job:localhost/replica:0/task:0/device:CPU:0\n",
      "Executing op RepeatDataset in device /job:localhost/replica:0/task:0/device:CPU:0\n",
      "Executing op ZipDataset in device /job:localhost/replica:0/task:0/device:CPU:0\n",
      "Executing op ParallelMapDataset in device /job:localhost/replica:0/task:0/device:CPU:0\n",
      "Train on 60000 samples\n",
      "Epoch 1/100\n",
      "Executing op ModelDataset in device /job:localhost/replica:0/task:0/device:CPU:0\n",
      "Executing op VarHandleOp in device /job:localhost/replica:0/task:0/device:GPU:0\n",
      "Executing op VarHandleOp in device /job:localhost/replica:0/task:0/device:GPU:0\n",
      "Executing op VarHandleOp in device /job:localhost/replica:0/task:0/device:GPU:0\n",
      "Executing op VarHandleOp in device /job:localhost/replica:0/task:0/device:GPU:0\n",
      "Executing op VarHandleOp in device /job:localhost/replica:0/task:0/device:GPU:0\n",
      "Executing op VarHandleOp in device /job:localhost/replica:0/task:0/device:GPU:0\n",
      "Executing op VarHandleOp in device /job:localhost/replica:0/task:0/device:GPU:0\n",
      "Executing op VarHandleOp in device /job:localhost/replica:0/task:0/device:GPU:0\n",
      "Executing op VarHandleOp in device /job:localhost/replica:0/task:0/device:GPU:0\n",
      "Executing op VarHandleOp in device /job:localhost/replica:0/task:0/device:GPU:0\n",
      "Executing op VarHandleOp in device /job:localhost/replica:0/task:0/device:GPU:0\n",
      "Executing op VarHandleOp in device /job:localhost/replica:0/task:0/device:GPU:0\n",
      "Executing op VarHandleOp in device /job:localhost/replica:0/task:0/device:GPU:0\n",
      "Executing op __inference_distributed_function_684557 in device /job:localhost/replica:0/task:0/device:GPU:0\n",
      "60000/60000 [==============================] - 3s 56us/sample - loss: 0.4717\n",
      "Epoch 2/100\n",
      "60000/60000 [==============================] - 3s 52us/sample - loss: 0.3590\n",
      "Epoch 3/100\n",
      "60000/60000 [==============================] - 3s 52us/sample - loss: 0.3204\n",
      "Epoch 4/100\n",
      "60000/60000 [==============================] - 3s 52us/sample - loss: 0.2994\n",
      "Epoch 5/100\n",
      "60000/60000 [==============================] - 3s 52us/sample - loss: 0.2778\n",
      "Epoch 6/100\n",
      "60000/60000 [==============================] - 3s 52us/sample - loss: 0.2624\n",
      "Epoch 7/100\n",
      "60000/60000 [==============================] - 3s 52us/sample - loss: 0.2489\n",
      "Epoch 8/100\n",
      "60000/60000 [==============================] - 3s 52us/sample - loss: 0.2400\n",
      "Epoch 9/100\n",
      "60000/60000 [==============================] - 3s 52us/sample - loss: 0.2263\n",
      "Epoch 10/100\n",
      "60000/60000 [==============================] - 3s 52us/sample - loss: 0.2191\n",
      "Epoch 11/100\n",
      "60000/60000 [==============================] - 3s 52us/sample - loss: 0.2115\n",
      "Epoch 12/100\n",
      "60000/60000 [==============================] - 3s 52us/sample - loss: 0.2024\n",
      "Epoch 13/100\n",
      "60000/60000 [==============================] - 3s 52us/sample - loss: 0.1961\n",
      "Epoch 14/100\n",
      "60000/60000 [==============================] - 3s 52us/sample - loss: 0.1869\n",
      "Epoch 15/100\n",
      "60000/60000 [==============================] - 3s 52us/sample - loss: 0.1813\n",
      "Epoch 16/100\n",
      "60000/60000 [==============================] - 3s 52us/sample - loss: 0.1758\n",
      "Epoch 17/100\n",
      "60000/60000 [==============================] - 3s 53us/sample - loss: 0.1703\n",
      "Epoch 18/100\n",
      "60000/60000 [==============================] - 3s 52us/sample - loss: 0.1680\n",
      "Epoch 19/100\n",
      "60000/60000 [==============================] - 3s 53us/sample - loss: 0.1627\n",
      "Epoch 20/100\n",
      "60000/60000 [==============================] - 3s 53us/sample - loss: 0.1552\n",
      "Epoch 21/100\n",
      "60000/60000 [==============================] - 3s 52us/sample - loss: 0.1521\n",
      "Epoch 22/100\n",
      "60000/60000 [==============================] - 3s 53us/sample - loss: 0.1475\n",
      "Epoch 23/100\n",
      "60000/60000 [==============================] - 3s 52us/sample - loss: 0.1440\n",
      "Epoch 24/100\n",
      "60000/60000 [==============================] - 3s 53us/sample - loss: 0.1395\n",
      "Epoch 25/100\n",
      "60000/60000 [==============================] - 3s 53us/sample - loss: 0.1361\n",
      "Epoch 26/100\n",
      "60000/60000 [==============================] - 3s 52us/sample - loss: 0.1323\n",
      "Epoch 27/100\n",
      "60000/60000 [==============================] - 3s 52us/sample - loss: 0.1277\n",
      "Epoch 28/100\n",
      "60000/60000 [==============================] - 3s 52us/sample - loss: 0.1251\n",
      "Epoch 29/100\n",
      "60000/60000 [==============================] - 3s 52us/sample - loss: 0.1276\n",
      "Epoch 30/100\n",
      "60000/60000 [==============================] - 3s 52us/sample - loss: 0.1205\n",
      "Epoch 31/100\n",
      "60000/60000 [==============================] - 3s 53us/sample - loss: 0.1160\n",
      "Epoch 32/100\n",
      "60000/60000 [==============================] - 3s 52us/sample - loss: 0.1127\n",
      "Epoch 33/100\n",
      "60000/60000 [==============================] - 3s 53us/sample - loss: 0.1137\n",
      "Epoch 34/100\n",
      "60000/60000 [==============================] - 3s 52us/sample - loss: 0.1076\n",
      "Epoch 35/100\n",
      "60000/60000 [==============================] - 3s 52us/sample - loss: 0.1098\n",
      "Epoch 36/100\n",
      "60000/60000 [==============================] - 3s 53us/sample - loss: 0.1039\n",
      "Epoch 37/100\n",
      "60000/60000 [==============================] - 3s 52us/sample - loss: 0.1034\n",
      "Epoch 38/100\n",
      "60000/60000 [==============================] - 3s 53us/sample - loss: 0.1047\n",
      "Epoch 39/100\n",
      "59840/60000 [============================>.] - ETA: 0s - loss: 0.0991\n",
      "Accuracy reached 90%, cancelled training!\n",
      "60000/60000 [==============================] - 3s 53us/sample - loss: 0.0993\n"
     ]
    },
    {
     "data": {
      "text/plain": [
       "<tensorflow.python.keras.callbacks.History at 0x7f44a8158160>"
      ]
     },
     "execution_count": 30,
     "metadata": {},
     "output_type": "execute_result"
    }
   ],
   "source": [
    "model.compile(optimizer='adam', loss='sparse_categorical_crossentropy')\n",
    "model.fit(training_images,training_labels, epochs=100, callbacks=[callbacks])"
   ]
  },
  {
   "cell_type": "code",
   "execution_count": 31,
   "metadata": {},
   "outputs": [
    {
     "name": "stdout",
     "output_type": "stream",
     "text": [
      "Executing op RangeDataset in device /job:localhost/replica:0/task:0/device:CPU:0\n",
      "Executing op RepeatDataset in device /job:localhost/replica:0/task:0/device:CPU:0\n",
      "Executing op MapDataset in device /job:localhost/replica:0/task:0/device:CPU:0\n",
      "Executing op PrefetchDataset in device /job:localhost/replica:0/task:0/device:CPU:0\n",
      "Executing op FlatMapDataset in device /job:localhost/replica:0/task:0/device:CPU:0\n",
      "Executing op TensorDataset in device /job:localhost/replica:0/task:0/device:CPU:0\n",
      "Executing op RepeatDataset in device /job:localhost/replica:0/task:0/device:CPU:0\n",
      "Executing op ZipDataset in device /job:localhost/replica:0/task:0/device:CPU:0\n",
      "Executing op ParallelMapDataset in device /job:localhost/replica:0/task:0/device:CPU:0\n",
      "Executing op ModelDataset in device /job:localhost/replica:0/task:0/device:CPU:0\n",
      "Executing op __inference_distributed_function_830930 in device /job:localhost/replica:0/task:0/device:GPU:0\n",
      "10000/10000 [==============================] - 0s 49us/sample - loss: 0.5328\n"
     ]
    },
    {
     "data": {
      "text/plain": [
       "0.5328350210994482"
      ]
     },
     "execution_count": 31,
     "metadata": {},
     "output_type": "execute_result"
    }
   ],
   "source": [
    "model.evaluate(test_images, test_labels)"
   ]
  },
  {
   "cell_type": "code",
   "execution_count": 34,
   "metadata": {},
   "outputs": [],
   "source": [
    "!git config --global user.email \"arjun921@gmail.com\"\n",
    "!git config --global user.name \"Arjun Sunil\""
   ]
  },
  {
   "cell_type": "code",
   "execution_count": 36,
   "metadata": {},
   "outputs": [
    {
     "name": "stdout",
     "output_type": "stream",
     "text": [
      "[master d8fa078] Added loss autostop, MNIST, Fashion MNIST\r\n",
      " 5 files changed, 2079 insertions(+)\r\n",
      " create mode 100644 coursera-TFInPractiseSpecialization/intro-to-tf/Week 2/Callbacks - Loss autostop.ipynb\r\n",
      " create mode 100644 coursera-TFInPractiseSpecialization/intro-to-tf/Week 2/Course 1 - Part 2 - Lesson 2 - Notebook.ipynb\r\n",
      " create mode 100644 coursera-TFInPractiseSpecialization/intro-to-tf/Week 2/Course_1_Part_4_Lesson_2_Notebook.ipynb\r\n",
      " create mode 100644 coursera-TFInPractiseSpecialization/intro-to-tf/Week 2/Fashion MNIST.ipynb\r\n",
      " create mode 100644 coursera-TFInPractiseSpecialization/intro-to-tf/Week 2/Mnist.ipynb\r\n"
     ]
    }
   ],
   "source": [
    "!git add .\n",
    "!git commit -m \"Added loss autostop, MNIST, Fashion MNIST\""
   ]
  },
  {
   "cell_type": "code",
   "execution_count": null,
   "metadata": {},
   "outputs": [
    {
     "name": "stdout",
     "output_type": "stream",
     "text": [
      "The authenticity of host 'github.com (140.82.114.4)' can't be established.\r\n",
      "RSA key fingerprint is SHA256:nThbg6kXUpJWGl7E1IGOCspRomTxdCARLviKw6E5SY8.\r\n",
      "Are you sure you want to continue connecting (yes/no)? "
     ]
    }
   ],
   "source": [
    "!git push"
   ]
  },
  {
   "cell_type": "code",
   "execution_count": null,
   "metadata": {},
   "outputs": [],
   "source": []
  }
 ],
 "metadata": {
  "kernelspec": {
   "display_name": "Python 3",
   "language": "python",
   "name": "python3"
  },
  "language_info": {
   "codemirror_mode": {
    "name": "ipython",
    "version": 3
   },
   "file_extension": ".py",
   "mimetype": "text/x-python",
   "name": "python",
   "nbconvert_exporter": "python",
   "pygments_lexer": "ipython3",
   "version": "3.6.9"
  }
 },
 "nbformat": 4,
 "nbformat_minor": 4
}
