{
 "cells": [
  {
   "cell_type": "code",
   "execution_count": 1,
   "metadata": {},
   "outputs": [],
   "source": [
    "import tensorflow as tf"
   ]
  },
  {
   "cell_type": "code",
   "execution_count": 2,
   "metadata": {},
   "outputs": [],
   "source": [
    "tf.debugging.set_log_device_placement(True)"
   ]
  },
  {
   "cell_type": "code",
   "execution_count": 3,
   "metadata": {},
   "outputs": [
    {
     "name": "stdout",
     "output_type": "stream",
     "text": [
      "Default GPU Device:/device:GPU:0\n"
     ]
    }
   ],
   "source": [
    "if tf.test.gpu_device_name(): \n",
    "    print('Default GPU Device:{}'.format(tf.test.gpu_device_name()))\n",
    "else:\n",
    "    print(\"Please install GPU version of TF\")"
   ]
  },
  {
   "cell_type": "code",
   "execution_count": 4,
   "metadata": {},
   "outputs": [],
   "source": [
    "class StopLoss(tf.keras.callbacks.Callback):\n",
    "    def on_epoch_end(self, epoch, logs={}):\n",
    "        if logs.get('loss')<0.1:\n",
    "            print('\\nAccuracy reached 90%, cancelled training!')\n",
    "            self.model.stop_training = True\n",
    "callbacks = StopLoss()"
   ]
  },
  {
   "cell_type": "code",
   "execution_count": 5,
   "metadata": {},
   "outputs": [],
   "source": [
    "fmnist = tf.keras.datasets.fashion_mnist"
   ]
  },
  {
   "cell_type": "code",
   "execution_count": 6,
   "metadata": {},
   "outputs": [],
   "source": [
    "(training_images, training_labels), (test_images, test_labels) = fmnist.load_data()"
   ]
  },
  {
   "cell_type": "code",
   "execution_count": 7,
   "metadata": {},
   "outputs": [],
   "source": [
    "# normalization\n",
    "training_images=training_images/255.0\n",
    "test_images=test_images/255.0"
   ]
  },
  {
   "cell_type": "code",
   "execution_count": 29,
   "metadata": {},
   "outputs": [],
   "source": [
    "model = tf.keras.models.Sequential([\n",
    "    tf.keras.layers.Flatten(),\n",
    "    tf.keras.layers.Dense(1024,activation=tf.nn.relu),\n",
    "    tf.keras.layers.Dense(10,activation=tf.nn.softmax)\n",
    "])"
   ]
  },
  {
   "cell_type": "code",
   "execution_count": null,
   "metadata": {
    "scrolled": false
   },
   "outputs": [
    {
     "name": "stdout",
     "output_type": "stream",
     "text": [
      "Executing op VarHandleOp in device /job:localhost/replica:0/task:0/device:GPU:0\n",
      "Executing op RangeDataset in device /job:localhost/replica:0/task:0/device:CPU:0\n",
      "Executing op RepeatDataset in device /job:localhost/replica:0/task:0/device:CPU:0\n",
      "Executing op MapDataset in device /job:localhost/replica:0/task:0/device:CPU:0\n",
      "Executing op PrefetchDataset in device /job:localhost/replica:0/task:0/device:CPU:0\n",
      "Executing op FlatMapDataset in device /job:localhost/replica:0/task:0/device:CPU:0\n",
      "Executing op TensorDataset in device /job:localhost/replica:0/task:0/device:CPU:0\n",
      "Executing op RepeatDataset in device /job:localhost/replica:0/task:0/device:CPU:0\n",
      "Executing op ZipDataset in device /job:localhost/replica:0/task:0/device:CPU:0\n",
      "Executing op ParallelMapDataset in device /job:localhost/replica:0/task:0/device:CPU:0\n",
      "Train on 60000 samples\n",
      "Epoch 1/100\n",
      "Executing op ModelDataset in device /job:localhost/replica:0/task:0/device:CPU:0\n",
      "Executing op VarHandleOp in device /job:localhost/replica:0/task:0/device:GPU:0\n",
      "Executing op VarHandleOp in device /job:localhost/replica:0/task:0/device:GPU:0\n",
      "Executing op VarHandleOp in device /job:localhost/replica:0/task:0/device:GPU:0\n",
      "Executing op VarHandleOp in device /job:localhost/replica:0/task:0/device:GPU:0\n",
      "Executing op VarHandleOp in device /job:localhost/replica:0/task:0/device:GPU:0\n",
      "Executing op VarHandleOp in device /job:localhost/replica:0/task:0/device:GPU:0\n",
      "Executing op VarHandleOp in device /job:localhost/replica:0/task:0/device:GPU:0\n",
      "Executing op VarHandleOp in device /job:localhost/replica:0/task:0/device:GPU:0\n",
      "Executing op VarHandleOp in device /job:localhost/replica:0/task:0/device:GPU:0\n",
      "Executing op VarHandleOp in device /job:localhost/replica:0/task:0/device:GPU:0\n",
      "Executing op VarHandleOp in device /job:localhost/replica:0/task:0/device:GPU:0\n",
      "Executing op VarHandleOp in device /job:localhost/replica:0/task:0/device:GPU:0\n",
      "Executing op VarHandleOp in device /job:localhost/replica:0/task:0/device:GPU:0\n",
      "Executing op __inference_distributed_function_684557 in device /job:localhost/replica:0/task:0/device:GPU:0\n",
      "60000/60000 [==============================] - 3s 56us/sample - loss: 0.4717\n",
      "Epoch 2/100\n",
      "60000/60000 [==============================] - 3s 52us/sample - loss: 0.3590\n",
      "Epoch 3/100\n",
      "60000/60000 [==============================] - 3s 52us/sample - loss: 0.3204\n",
      "Epoch 4/100\n",
      "60000/60000 [==============================] - 3s 52us/sample - loss: 0.2994\n",
      "Epoch 5/100\n",
      "60000/60000 [==============================] - 3s 52us/sample - loss: 0.2778\n",
      "Epoch 6/100\n",
      "60000/60000 [==============================] - 3s 52us/sample - loss: 0.2624\n",
      "Epoch 7/100\n",
      "60000/60000 [==============================] - 3s 52us/sample - loss: 0.2489\n",
      "Epoch 8/100\n",
      "60000/60000 [==============================] - 3s 52us/sample - loss: 0.2400\n",
      "Epoch 9/100\n",
      "60000/60000 [==============================] - 3s 52us/sample - loss: 0.2263\n",
      "Epoch 10/100\n",
      "60000/60000 [==============================] - 3s 52us/sample - loss: 0.2191\n",
      "Epoch 11/100\n",
      "60000/60000 [==============================] - 3s 52us/sample - loss: 0.2115\n",
      "Epoch 12/100\n",
      "60000/60000 [==============================] - 3s 52us/sample - loss: 0.2024\n",
      "Epoch 13/100\n",
      "60000/60000 [==============================] - 3s 52us/sample - loss: 0.1961\n",
      "Epoch 14/100\n",
      "60000/60000 [==============================] - 3s 52us/sample - loss: 0.1869\n",
      "Epoch 15/100\n",
      "60000/60000 [==============================] - 3s 52us/sample - loss: 0.1813\n",
      "Epoch 16/100\n",
      "60000/60000 [==============================] - 3s 52us/sample - loss: 0.1758\n",
      "Epoch 17/100\n",
      "60000/60000 [==============================] - 3s 53us/sample - loss: 0.1703\n",
      "Epoch 18/100\n",
      "60000/60000 [==============================] - 3s 52us/sample - loss: 0.1680\n",
      "Epoch 19/100\n",
      "60000/60000 [==============================] - 3s 53us/sample - loss: 0.1627\n",
      "Epoch 20/100\n",
      "60000/60000 [==============================] - 3s 53us/sample - loss: 0.1552\n",
      "Epoch 21/100\n",
      "60000/60000 [==============================] - 3s 52us/sample - loss: 0.1521\n",
      "Epoch 22/100\n",
      "60000/60000 [==============================] - 3s 53us/sample - loss: 0.1475\n",
      "Epoch 23/100\n",
      "60000/60000 [==============================] - 3s 52us/sample - loss: 0.1440\n",
      "Epoch 24/100\n",
      "60000/60000 [==============================] - 3s 53us/sample - loss: 0.1395\n",
      "Epoch 25/100\n",
      "60000/60000 [==============================] - 3s 53us/sample - loss: 0.1361\n",
      "Epoch 26/100\n",
      "60000/60000 [==============================] - 3s 52us/sample - loss: 0.1323\n",
      "Epoch 27/100\n",
      "60000/60000 [==============================] - 3s 52us/sample - loss: 0.1277\n",
      "Epoch 28/100\n",
      "34144/60000 [================>.............] - ETA: 1s - loss: 0.1234"
     ]
    }
   ],
   "source": [
    "model.compile(optimizer='adam', loss='sparse_categorical_crossentropy')\n",
    "model.fit(training_images,training_labels, epochs=100, callbacks=[callbacks])"
   ]
  },
  {
   "cell_type": "code",
   "execution_count": null,
   "metadata": {},
   "outputs": [],
   "source": [
    "model.evaluate(test_images, test_labels)"
   ]
  },
  {
   "cell_type": "code",
   "execution_count": null,
   "metadata": {},
   "outputs": [],
   "source": [
    "!git commit -am \"Added loss autostop, Mnist, Fashion MNIS\""
   ]
  }
 ],
 "metadata": {
  "kernelspec": {
   "display_name": "Python 3",
   "language": "python",
   "name": "python3"
  },
  "language_info": {
   "codemirror_mode": {
    "name": "ipython",
    "version": 3
   },
   "file_extension": ".py",
   "mimetype": "text/x-python",
   "name": "python",
   "nbconvert_exporter": "python",
   "pygments_lexer": "ipython3",
   "version": "3.6.9"
  }
 },
 "nbformat": 4,
 "nbformat_minor": 4
}
