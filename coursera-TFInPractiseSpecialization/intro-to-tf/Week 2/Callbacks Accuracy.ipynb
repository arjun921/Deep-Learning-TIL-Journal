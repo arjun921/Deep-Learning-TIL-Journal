{
 "cells": [
  {
   "cell_type": "code",
   "execution_count": 1,
   "metadata": {},
   "outputs": [],
   "source": [
    "import tensorflow as tf"
   ]
  },
  {
   "cell_type": "code",
   "execution_count": 12,
   "metadata": {},
   "outputs": [],
   "source": [
    "class AccuracyCallback(tf.keras.callbacks.Callback):\n",
    "    def on_epoch_end(self, epoch, logs={}):\n",
    "        if (logs.get('accuracy')>0.95):\n",
    "            print('\\n Accuracy reached 95%')\n",
    "            self.model.stop_training = True\n"
   ]
  },
  {
   "cell_type": "code",
   "execution_count": 13,
   "metadata": {},
   "outputs": [],
   "source": [
    "mnist = tf.keras.datasets.fashion_mnist"
   ]
  },
  {
   "cell_type": "code",
   "execution_count": 14,
   "metadata": {},
   "outputs": [],
   "source": [
    "(x_train, y_train),(x_test, y_test) = mnist.load_data()"
   ]
  },
  {
   "cell_type": "code",
   "execution_count": 15,
   "metadata": {},
   "outputs": [],
   "source": [
    "x_train, x_test = x_train/255.0, x_test/255.0"
   ]
  },
  {
   "cell_type": "code",
   "execution_count": 16,
   "metadata": {},
   "outputs": [],
   "source": [
    "accuracy_callback = AccuracyCallback()"
   ]
  },
  {
   "cell_type": "code",
   "execution_count": 17,
   "metadata": {},
   "outputs": [],
   "source": [
    "model = tf.keras.models.Sequential([\n",
    "    tf.keras.layers.Flatten(),\n",
    "    tf.keras.layers.Dense(512, activation=tf.nn.relu),\n",
    "    tf.keras.layers.Dense(10, activation=tf.nn.softmax)\n",
    "])"
   ]
  },
  {
   "cell_type": "code",
   "execution_count": 18,
   "metadata": {},
   "outputs": [],
   "source": [
    "model.compile(optimizer=tf.optimizers.Adam(),\n",
    "             loss='sparse_categorical_crossentropy',\n",
    "             metrics=['accuracy'])"
   ]
  },
  {
   "cell_type": "code",
   "execution_count": 19,
   "metadata": {},
   "outputs": [
    {
     "name": "stdout",
     "output_type": "stream",
     "text": [
      "Train on 60000 samples\n",
      "Epoch 1/100\n",
      "60000/60000 [==============================] - 4s 62us/sample - loss: 0.4719 - accuracy: 0.8309\n",
      "Epoch 2/100\n",
      "60000/60000 [==============================] - 3s 57us/sample - loss: 0.3578 - accuracy: 0.8704\n",
      "Epoch 3/100\n",
      "60000/60000 [==============================] - 3s 57us/sample - loss: 0.3222 - accuracy: 0.8816\n",
      "Epoch 4/100\n",
      "60000/60000 [==============================] - 3s 57us/sample - loss: 0.2989 - accuracy: 0.8896\n",
      "Epoch 5/100\n",
      "60000/60000 [==============================] - 3s 57us/sample - loss: 0.2793 - accuracy: 0.8964\n",
      "Epoch 6/100\n",
      "60000/60000 [==============================] - 4s 58us/sample - loss: 0.2643 - accuracy: 0.9005\n",
      "Epoch 7/100\n",
      "60000/60000 [==============================] - 3s 57us/sample - loss: 0.2532 - accuracy: 0.9048\n",
      "Epoch 8/100\n",
      "60000/60000 [==============================] - 4s 59us/sample - loss: 0.2414 - accuracy: 0.9092\n",
      "Epoch 9/100\n",
      "60000/60000 [==============================] - 4s 58us/sample - loss: 0.2306 - accuracy: 0.9129\n",
      "Epoch 10/100\n",
      "60000/60000 [==============================] - 4s 58us/sample - loss: 0.2222 - accuracy: 0.9168\n",
      "Epoch 11/100\n",
      "60000/60000 [==============================] - 3s 58us/sample - loss: 0.2126 - accuracy: 0.9205\n",
      "Epoch 12/100\n",
      "60000/60000 [==============================] - 3s 57us/sample - loss: 0.2053 - accuracy: 0.9240\n",
      "Epoch 13/100\n",
      "60000/60000 [==============================] - 3s 57us/sample - loss: 0.1971 - accuracy: 0.9253\n",
      "Epoch 14/100\n",
      "60000/60000 [==============================] - 3s 57us/sample - loss: 0.1928 - accuracy: 0.9280\n",
      "Epoch 15/100\n",
      "60000/60000 [==============================] - 3s 57us/sample - loss: 0.1856 - accuracy: 0.9300\n",
      "Epoch 16/100\n",
      "60000/60000 [==============================] - 3s 56us/sample - loss: 0.1780 - accuracy: 0.9336\n",
      "Epoch 17/100\n",
      "60000/60000 [==============================] - 3s 58us/sample - loss: 0.1701 - accuracy: 0.9354\n",
      "Epoch 18/100\n",
      "60000/60000 [==============================] - 3s 57us/sample - loss: 0.1671 - accuracy: 0.9378\n",
      "Epoch 19/100\n",
      "60000/60000 [==============================] - 3s 57us/sample - loss: 0.1620 - accuracy: 0.9387\n",
      "Epoch 20/100\n",
      "60000/60000 [==============================] - 3s 58us/sample - loss: 0.1572 - accuracy: 0.9415\n",
      "Epoch 21/100\n",
      "60000/60000 [==============================] - 3s 57us/sample - loss: 0.1517 - accuracy: 0.9423\n",
      "Epoch 22/100\n",
      "60000/60000 [==============================] - 4s 59us/sample - loss: 0.1479 - accuracy: 0.9438\n",
      "Epoch 23/100\n",
      "60000/60000 [==============================] - 3s 57us/sample - loss: 0.1412 - accuracy: 0.9463\n",
      "Epoch 24/100\n",
      "60000/60000 [==============================] - 3s 57us/sample - loss: 0.1398 - accuracy: 0.9480\n",
      "Epoch 25/100\n",
      "60000/60000 [==============================] - 4s 59us/sample - loss: 0.1352 - accuracy: 0.9489\n",
      "Epoch 26/100\n",
      "59552/60000 [============================>.] - ETA: 0s - loss: 0.1307 - accuracy: 0.9508\n",
      " Accuracy reached 95%\n",
      "60000/60000 [==============================] - 3s 57us/sample - loss: 0.1308 - accuracy: 0.9508\n"
     ]
    },
    {
     "data": {
      "text/plain": [
       "<tensorflow.python.keras.callbacks.History at 0x7f77a027c748>"
      ]
     },
     "execution_count": 19,
     "metadata": {},
     "output_type": "execute_result"
    }
   ],
   "source": [
    "model.fit(x_train, y_train, epochs=100, callbacks=[accuracy_callback])"
   ]
  },
  {
   "cell_type": "code",
   "execution_count": 20,
   "metadata": {},
   "outputs": [
    {
     "name": "stdout",
     "output_type": "stream",
     "text": [
      "10000/10000 [==============================] - 1s 56us/sample - loss: 0.4111 - accuracy: 0.8897\n"
     ]
    },
    {
     "data": {
      "text/plain": [
       "[0.41110736468806863, 0.8897]"
      ]
     },
     "execution_count": 20,
     "metadata": {},
     "output_type": "execute_result"
    }
   ],
   "source": [
    "model.evaluate(x_test, y_test)"
   ]
  },
  {
   "cell_type": "code",
   "execution_count": 21,
   "metadata": {},
   "outputs": [
    {
     "name": "stdout",
     "output_type": "stream",
     "text": [
      "On branch master\r\n",
      "Your branch is ahead of 'origin/master' by 1 commit.\r\n",
      "  (use \"git push\" to publish your local commits)\r\n",
      "\r\n",
      "Untracked files:\r\n",
      "  (use \"git add <file>...\" to include in what will be committed)\r\n",
      "\r\n",
      "\t\u001b[31m../../../Untitled.ipynb\u001b[m\r\n",
      "\r\n",
      "nothing added to commit but untracked files present (use \"git add\" to track)\r\n"
     ]
    }
   ],
   "source": [
    "!git status"
   ]
  },
  {
   "cell_type": "code",
   "execution_count": null,
   "metadata": {},
   "outputs": [],
   "source": []
  }
 ],
 "metadata": {
  "kernelspec": {
   "display_name": "Python 3",
   "language": "python",
   "name": "python3"
  },
  "language_info": {
   "codemirror_mode": {
    "name": "ipython",
    "version": 3
   },
   "file_extension": ".py",
   "mimetype": "text/x-python",
   "name": "python",
   "nbconvert_exporter": "python",
   "pygments_lexer": "ipython3",
   "version": "3.6.9"
  }
 },
 "nbformat": 4,
 "nbformat_minor": 4
}
