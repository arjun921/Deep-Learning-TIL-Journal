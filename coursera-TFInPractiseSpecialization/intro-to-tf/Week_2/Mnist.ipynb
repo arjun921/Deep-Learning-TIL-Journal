{
 "cells": [
  {
   "cell_type": "code",
   "execution_count": 1,
   "metadata": {},
   "outputs": [],
   "source": [
    "import tensorflow as tf\n",
    "import matplotlib.pyplot as plt"
   ]
  },
  {
   "cell_type": "code",
   "execution_count": 2,
   "metadata": {},
   "outputs": [],
   "source": [
    "mnist = tf.keras.datasets.mnist"
   ]
  },
  {
   "cell_type": "code",
   "execution_count": 3,
   "metadata": {},
   "outputs": [],
   "source": [
    "(training_images, training_labels), (test_images, test_labels) = mnist.load_data()"
   ]
  },
  {
   "cell_type": "code",
   "execution_count": 4,
   "metadata": {},
   "outputs": [],
   "source": [
    "# normalize all images to 0-1 range\n",
    "training_images = training_images/255.0\n",
    "test_images = test_images/255.0"
   ]
  },
  {
   "cell_type": "code",
   "execution_count": 5,
   "metadata": {},
   "outputs": [],
   "source": [
    "models = [tf.keras.models.Sequential([\n",
    "    tf.keras.layers.Flatten(),\n",
    "    tf.keras.layers.Dense(512, activation=tf.nn.relu),\n",
    "    tf.keras.layers.Dense(10, activation=tf.nn.softmax)\n",
    "]),\n",
    "tf.keras.models.Sequential([\n",
    "    tf.keras.layers.Flatten(),\n",
    "    tf.keras.layers.Dense(512, activation=tf.nn.relu),\n",
    "    tf.keras.layers.Dense(10, activation=tf.nn.softmax)\n",
    "]),\n",
    "tf.keras.models.Sequential([\n",
    "    tf.keras.layers.Flatten(),\n",
    "    tf.keras.layers.Dense(512, activation=tf.nn.relu),\n",
    "    tf.keras.layers.Dense(10, activation=tf.nn.softmax)\n",
    "]),\n",
    "tf.keras.models.Sequential([\n",
    "    tf.keras.layers.Flatten(),\n",
    "    tf.keras.layers.Dense(512, activation=tf.nn.relu),\n",
    "    tf.keras.layers.Dense(10, activation=tf.nn.softmax)\n",
    "]),\n",
    "tf.keras.models.Sequential([\n",
    "    tf.keras.layers.Flatten(),\n",
    "    tf.keras.layers.Dense(512, activation=tf.nn.relu),\n",
    "    tf.keras.layers.Dense(10, activation=tf.nn.softmax)\n",
    "])\n",
    "]"
   ]
  },
  {
   "cell_type": "code",
   "execution_count": 6,
   "metadata": {},
   "outputs": [
    {
     "data": {
      "text/plain": [
       "[None, None, None, None, None]"
      ]
     },
     "execution_count": 6,
     "metadata": {},
     "output_type": "execute_result"
    }
   ],
   "source": [
    "# compile all models\n",
    "[x.compile(optimizer='adam',\n",
    "             loss='sparse_categorical_crossentropy') for x in models]"
   ]
  },
  {
   "cell_type": "code",
   "execution_count": 7,
   "metadata": {
    "collapsed": true
   },
   "outputs": [
    {
     "name": "stdout",
     "output_type": "stream",
     "text": [
      "Train on 60000 samples\n",
      "Epoch 1/5\n",
      "60000/60000 [==============================] - 4s 65us/sample - loss: 0.1999\n",
      "Epoch 2/5\n",
      "60000/60000 [==============================] - 3s 55us/sample - loss: 0.0803\n",
      "Epoch 3/5\n",
      "60000/60000 [==============================] - 3s 56us/sample - loss: 0.0517\n",
      "Epoch 4/5\n",
      "60000/60000 [==============================] - 3s 55us/sample - loss: 0.0347\n",
      "Epoch 5/5\n",
      "60000/60000 [==============================] - 3s 56us/sample - loss: 0.0269\n",
      "Train on 60000 samples\n",
      "Epoch 1/10\n",
      "60000/60000 [==============================] - 4s 59us/sample - loss: 0.1990\n",
      "Epoch 2/10\n",
      "60000/60000 [==============================] - 3s 55us/sample - loss: 0.0797\n",
      "Epoch 3/10\n",
      "60000/60000 [==============================] - 3s 56us/sample - loss: 0.0519\n",
      "Epoch 4/10\n",
      "60000/60000 [==============================] - 3s 55us/sample - loss: 0.0368\n",
      "Epoch 5/10\n",
      "60000/60000 [==============================] - 3s 55us/sample - loss: 0.0258\n",
      "Epoch 6/10\n",
      "60000/60000 [==============================] - 3s 55us/sample - loss: 0.0215\n",
      "Epoch 7/10\n",
      "60000/60000 [==============================] - 3s 55us/sample - loss: 0.0165\n",
      "Epoch 8/10\n",
      "60000/60000 [==============================] - 3s 55us/sample - loss: 0.0141\n",
      "Epoch 9/10\n",
      "60000/60000 [==============================] - 3s 55us/sample - loss: 0.0116\n",
      "Epoch 10/10\n",
      "60000/60000 [==============================] - 3s 55us/sample - loss: 0.0096\n",
      "Train on 60000 samples\n",
      "Epoch 1/15\n",
      "60000/60000 [==============================] - 4s 59us/sample - loss: 0.2060\n",
      "Epoch 2/15\n",
      "60000/60000 [==============================] - 3s 56us/sample - loss: 0.0805\n",
      "Epoch 3/15\n",
      "60000/60000 [==============================] - 3s 56us/sample - loss: 0.0535\n",
      "Epoch 4/15\n",
      "60000/60000 [==============================] - 3s 55us/sample - loss: 0.0368\n",
      "Epoch 5/15\n",
      "60000/60000 [==============================] - 3s 56us/sample - loss: 0.0273\n",
      "Epoch 6/15\n",
      "60000/60000 [==============================] - 3s 56us/sample - loss: 0.0212\n",
      "Epoch 7/15\n",
      "60000/60000 [==============================] - 3s 55us/sample - loss: 0.0167\n",
      "Epoch 8/15\n",
      "60000/60000 [==============================] - 3s 56us/sample - loss: 0.0150\n",
      "Epoch 9/15\n",
      "60000/60000 [==============================] - 3s 56us/sample - loss: 0.0118\n",
      "Epoch 10/15\n",
      "60000/60000 [==============================] - 3s 56us/sample - loss: 0.0103\n",
      "Epoch 11/15\n",
      "60000/60000 [==============================] - 3s 56us/sample - loss: 0.0100\n",
      "Epoch 12/15\n",
      "60000/60000 [==============================] - 3s 55us/sample - loss: 0.0087\n",
      "Epoch 13/15\n",
      "60000/60000 [==============================] - 3s 55us/sample - loss: 0.0074\n",
      "Epoch 14/15\n",
      "60000/60000 [==============================] - 3s 56us/sample - loss: 0.0095\n",
      "Epoch 15/15\n",
      "60000/60000 [==============================] - 3s 56us/sample - loss: 0.0058\n",
      "Train on 60000 samples\n",
      "Epoch 1/20\n",
      "60000/60000 [==============================] - 4s 61us/sample - loss: 0.1999\n",
      "Epoch 2/20\n",
      "60000/60000 [==============================] - 3s 56us/sample - loss: 0.0801\n",
      "Epoch 3/20\n",
      "60000/60000 [==============================] - 3s 55us/sample - loss: 0.0527\n",
      "Epoch 4/20\n",
      "60000/60000 [==============================] - 3s 56us/sample - loss: 0.0360\n",
      "Epoch 5/20\n",
      "60000/60000 [==============================] - 3s 56us/sample - loss: 0.0268\n",
      "Epoch 6/20\n",
      "60000/60000 [==============================] - 3s 55us/sample - loss: 0.0209\n",
      "Epoch 7/20\n",
      "60000/60000 [==============================] - 3s 55us/sample - loss: 0.0175\n",
      "Epoch 8/20\n",
      "60000/60000 [==============================] - 3s 56us/sample - loss: 0.0154\n",
      "Epoch 9/20\n",
      "60000/60000 [==============================] - 3s 55us/sample - loss: 0.0129\n",
      "Epoch 10/20\n",
      "60000/60000 [==============================] - 3s 55us/sample - loss: 0.0094\n",
      "Epoch 11/20\n",
      "60000/60000 [==============================] - 3s 56us/sample - loss: 0.0106\n",
      "Epoch 12/20\n",
      "60000/60000 [==============================] - 3s 55us/sample - loss: 0.0088\n",
      "Epoch 13/20\n",
      "60000/60000 [==============================] - 3s 55us/sample - loss: 0.0077\n",
      "Epoch 14/20\n",
      "60000/60000 [==============================] - 3s 56us/sample - loss: 0.0090\n",
      "Epoch 15/20\n",
      "60000/60000 [==============================] - 3s 55us/sample - loss: 0.0048\n",
      "Epoch 16/20\n",
      "60000/60000 [==============================] - 3s 55us/sample - loss: 0.0079\n",
      "Epoch 17/20\n",
      "60000/60000 [==============================] - 3s 56us/sample - loss: 0.0086\n",
      "Epoch 18/20\n",
      "60000/60000 [==============================] - 3s 55us/sample - loss: 0.0064\n",
      "Epoch 19/20\n",
      "60000/60000 [==============================] - 3s 55us/sample - loss: 0.0043\n",
      "Epoch 20/20\n",
      "60000/60000 [==============================] - 3s 56us/sample - loss: 0.0066\n",
      "Train on 60000 samples\n",
      "Epoch 1/30\n",
      "60000/60000 [==============================] - 4s 59us/sample - loss: 0.2012\n",
      "Epoch 2/30\n",
      "60000/60000 [==============================] - 3s 56us/sample - loss: 0.0793\n",
      "Epoch 3/30\n",
      "60000/60000 [==============================] - 3s 55us/sample - loss: 0.0523\n",
      "Epoch 4/30\n",
      "60000/60000 [==============================] - 3s 55us/sample - loss: 0.0372\n",
      "Epoch 5/30\n",
      "60000/60000 [==============================] - 3s 55us/sample - loss: 0.0261\n",
      "Epoch 6/30\n",
      "60000/60000 [==============================] - 3s 55us/sample - loss: 0.0214\n",
      "Epoch 7/30\n",
      "60000/60000 [==============================] - 3s 55us/sample - loss: 0.0160\n",
      "Epoch 8/30\n",
      "60000/60000 [==============================] - 3s 55us/sample - loss: 0.0143\n",
      "Epoch 9/30\n",
      "60000/60000 [==============================] - 3s 55us/sample - loss: 0.0109\n",
      "Epoch 10/30\n",
      "60000/60000 [==============================] - 3s 55us/sample - loss: 0.0113\n",
      "Epoch 11/30\n",
      "60000/60000 [==============================] - 3s 55us/sample - loss: 0.0106\n",
      "Epoch 12/30\n",
      "60000/60000 [==============================] - 3s 55us/sample - loss: 0.0092\n",
      "Epoch 13/30\n",
      "60000/60000 [==============================] - 3s 56us/sample - loss: 0.0075\n",
      "Epoch 14/30\n",
      "60000/60000 [==============================] - 3s 56us/sample - loss: 0.0080\n",
      "Epoch 15/30\n",
      "60000/60000 [==============================] - 3s 56us/sample - loss: 0.0076\n",
      "Epoch 16/30\n",
      "60000/60000 [==============================] - 3s 55us/sample - loss: 0.0076\n",
      "Epoch 17/30\n",
      "60000/60000 [==============================] - 3s 55us/sample - loss: 0.0066\n",
      "Epoch 18/30\n",
      "60000/60000 [==============================] - 3s 55us/sample - loss: 0.0060\n",
      "Epoch 19/30\n",
      "60000/60000 [==============================] - 3s 55us/sample - loss: 0.0078\n",
      "Epoch 20/30\n",
      "60000/60000 [==============================] - 3s 55us/sample - loss: 0.0041\n",
      "Epoch 21/30\n",
      "60000/60000 [==============================] - 3s 55us/sample - loss: 0.0077\n",
      "Epoch 22/30\n",
      "60000/60000 [==============================] - 3s 55us/sample - loss: 0.0050\n",
      "Epoch 23/30\n",
      "60000/60000 [==============================] - 3s 55us/sample - loss: 0.0070\n",
      "Epoch 24/30\n",
      "60000/60000 [==============================] - 3s 55us/sample - loss: 0.0045\n",
      "Epoch 25/30\n",
      "60000/60000 [==============================] - 3s 55us/sample - loss: 0.0050\n",
      "Epoch 26/30\n",
      "60000/60000 [==============================] - 3s 55us/sample - loss: 0.0070\n",
      "Epoch 27/30\n",
      "60000/60000 [==============================] - 3s 56us/sample - loss: 0.0054\n",
      "Epoch 28/30\n",
      "60000/60000 [==============================] - 3s 56us/sample - loss: 0.0031\n",
      "Epoch 29/30\n",
      "60000/60000 [==============================] - 3s 56us/sample - loss: 0.0056\n",
      "Epoch 30/30\n",
      "60000/60000 [==============================] - 3s 55us/sample - loss: 0.0034\n"
     ]
    }
   ],
   "source": [
    "# checking effects of epochs on model (accuracy increases presumption)\n",
    "fits = [\n",
    "    models[0].fit(training_images, training_labels, epochs=5),\n",
    "    models[1].fit(training_images, training_labels, epochs=10),\n",
    "    models[2].fit(training_images, training_labels, epochs=15),\n",
    "    models[3].fit(training_images, training_labels, epochs=20),\n",
    "    models[4].fit(training_images, training_labels, epochs=30)\n",
    "]"
   ]
  },
  {
   "cell_type": "code",
   "execution_count": 8,
   "metadata": {},
   "outputs": [
    {
     "name": "stdout",
     "output_type": "stream",
     "text": [
      "10000/10000 [==============================] - 1s 52us/sample - loss: 0.0947\n",
      "10000/10000 [==============================] - 1s 52us/sample - loss: 0.0761\n",
      "10000/10000 [==============================] - 1s 51us/sample - loss: 0.0904\n",
      "10000/10000 [==============================] - 1s 53us/sample - loss: 0.1069\n",
      "10000/10000 [==============================] - 1s 52us/sample - loss: 0.1391\n"
     ]
    }
   ],
   "source": [
    "evaluations = [model.evaluate(test_images, test_labels) for model in models]"
   ]
  },
  {
   "cell_type": "code",
   "execution_count": null,
   "metadata": {},
   "outputs": [],
   "source": [
    "classifications = [model.predict(test_images) for model in models]"
   ]
  },
  {
   "cell_type": "code",
   "execution_count": null,
   "metadata": {},
   "outputs": [],
   "source": [
    "classifications = [x*100.0 for x in classifications ]"
   ]
  },
  {
   "cell_type": "code",
   "execution_count": null,
   "metadata": {},
   "outputs": [],
   "source": [
    "print([classifications[i][0] for i in range(len(classifications))])"
   ]
  },
  {
   "cell_type": "code",
   "execution_count": 56,
   "metadata": {},
   "outputs": [
    {
     "data": {
      "text/plain": [
       "<matplotlib.image.AxesImage at 0x7f8d6474fc88>"
      ]
     },
     "execution_count": 56,
     "metadata": {},
     "output_type": "execute_result"
    },
    {
     "data": {
      "image/png": "[encoded data removed]",
      "text/plain": [
       "<Figure size 432x288 with 1 Axes>"
      ]
     },
     "metadata": {
      "needs_background": "light"
     },
     "output_type": "display_data"
    }
   ],
   "source": [
    "plt.imshow(test_images[0])"
   ]
  },
  {
   "cell_type": "code",
   "execution_count": null,
   "metadata": {},
   "outputs": [],
   "source": []
  }
 ],
 "metadata": {
  "kernelspec": {
   "display_name": "Python 3",
   "language": "python",
   "name": "python3"
  },
  "language_info": {
   "codemirror_mode": {
    "name": "ipython",
    "version": 3
   },
   "file_extension": ".py",
   "mimetype": "text/x-python",
   "name": "python",
   "nbconvert_exporter": "python",
   "pygments_lexer": "ipython3",
   "version": "3.6.9"
  }
 },
 "nbformat": 4,
 "nbformat_minor": 4
}
