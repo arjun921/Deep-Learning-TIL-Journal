{
 "cells": [
  {
   "cell_type": "code",
   "execution_count": 1,
   "metadata": {},
   "outputs": [],
   "source": [
    "import json\n",
    "import tensorflow as tf\n",
    "\n",
    "from tensorflow.keras.preprocessing.text import Tokenizer\n",
    "from tensorflow.keras.preprocessing.sequence import pad_sequences"
   ]
  },
  {
   "cell_type": "code",
   "execution_count": 2,
   "metadata": {},
   "outputs": [],
   "source": [
    "vocab_size = 10000\n",
    "embedding_dim = 16\n",
    "max_length = 100\n",
    "trunc_type='post'\n",
    "padding_type='post'\n",
    "oov_tok = \"<OOV>\"\n",
    "training_size = 20000\n"
   ]
  },
  {
   "cell_type": "code",
   "execution_count": 3,
   "metadata": {},
   "outputs": [
    {
     "name": "stdout",
     "output_type": "stream",
     "text": [
      "--2020-09-27 11:12:39--  https://storage.googleapis.com/laurencemoroney-blog.appspot.com/sarcasm.json\n",
      "Resolving storage.googleapis.com (storage.googleapis.com)... 172.217.8.16, 172.217.15.112, 172.217.12.240, ...\n",
      "Connecting to storage.googleapis.com (storage.googleapis.com)|172.217.8.16|:443... connected.\n",
      "HTTP request sent, awaiting response... 200 OK\n",
      "Length: 5643545 (5.4M) [application/json]\n",
      "Saving to: ‘/tmp/sarcasm.json’\n",
      "\n",
      "/tmp/sarcasm.json   100%[===================>]   5.38M  --.-KB/s    in 0.08s   \n",
      "\n",
      "2020-09-27 11:12:39 (70.1 MB/s) - ‘/tmp/sarcasm.json’ saved [5643545/5643545]\n",
      "\n"
     ]
    }
   ],
   "source": [
    "!wget --no-check-certificate \\\n",
    "    https://storage.googleapis.com/laurencemoroney-blog.appspot.com/sarcasm.json \\\n",
    "    -O /tmp/sarcasm.json\n"
   ]
  },
  {
   "cell_type": "code",
   "execution_count": 4,
   "metadata": {},
   "outputs": [],
   "source": [
    "with open(\"/tmp/sarcasm.json\", 'r') as f:\n",
    "    datastore = json.load(f)\n",
    "\n",
    "sentences = []\n",
    "labels = []\n",
    "\n",
    "for item in datastore:\n",
    "    sentences.append(item['headline'])\n",
    "    labels.append(item['is_sarcastic'])"
   ]
  },
  {
   "cell_type": "code",
   "execution_count": 15,
   "metadata": {},
   "outputs": [
    {
     "data": {
      "text/plain": [
       "\"former versace store clerk sues over secret 'black code' for minority shoppers\""
      ]
     },
     "execution_count": 15,
     "metadata": {},
     "output_type": "execute_result"
    }
   ],
   "source": [
    "sentences[0]"
   ]
  },
  {
   "cell_type": "code",
   "execution_count": 16,
   "metadata": {},
   "outputs": [
    {
     "data": {
      "text/plain": [
       "0"
      ]
     },
     "execution_count": 16,
     "metadata": {},
     "output_type": "execute_result"
    }
   ],
   "source": [
    "labels[0]"
   ]
  },
  {
   "cell_type": "code",
   "execution_count": 36,
   "metadata": {},
   "outputs": [],
   "source": [
    "training_sentences = sentences[0:training_size]\n",
    "testing_sentences = sentences[training_size:]\n",
    "training_labels = labels[0:training_size]\n",
    "testing_labels = labels[training_size:]"
   ]
  },
  {
   "cell_type": "code",
   "execution_count": 37,
   "metadata": {},
   "outputs": [],
   "source": [
    "tokenizer = Tokenizer(num_words=vocab_size, oov_token=oov_tok)\n",
    "tokenizer.fit_on_texts(training_sentences)"
   ]
  },
  {
   "cell_type": "code",
   "execution_count": 38,
   "metadata": {},
   "outputs": [],
   "source": [
    "word_index = tokenizer.word_index"
   ]
  },
  {
   "cell_type": "code",
   "execution_count": 39,
   "metadata": {},
   "outputs": [],
   "source": [
    "training_sequences = tokenizer.texts_to_sequences(training_sentences)\n",
    "training_padded = pad_sequences(training_sequences, maxlen=max_length, padding=padding_type, truncating=trunc_type)"
   ]
  },
  {
   "cell_type": "code",
   "execution_count": 40,
   "metadata": {},
   "outputs": [],
   "source": [
    "testing_sequences = tokenizer.texts_to_sequences(testing_sentences)\n",
    "testing_padded = pad_sequences(testing_sequences, maxlen=max_length, padding=padding_type, truncating=trunc_type)"
   ]
  },
  {
   "cell_type": "code",
   "execution_count": 41,
   "metadata": {},
   "outputs": [],
   "source": [
    "import numpy as np\n",
    "\n",
    "training_padded = np.array(training_padded)\n",
    "training_labels = np.array(training_labels)\n",
    "\n",
    "testing_padded = np.array(testing_padded)\n",
    "testing_labels = np.array(testing_labels)"
   ]
  },
  {
   "cell_type": "code",
   "execution_count": 42,
   "metadata": {},
   "outputs": [],
   "source": [
    "model = tf.keras.Sequential([\n",
    "    tf.keras.layers.Embedding(vocab_size, embedding_dim, input_length=max_length),\n",
    "    tf.keras.layers.GlobalAveragePooling1D(),\n",
    "    tf.keras.layers.Dense(24, activation='relu'),\n",
    "    tf.keras.layers.Dense(1, activation='sigmoid')\n",
    "])\n",
    "model.compile(loss='binary_crossentropy', optimizer='adam',metrics=['accuracy'])"
   ]
  },
  {
   "cell_type": "code",
   "execution_count": 43,
   "metadata": {},
   "outputs": [
    {
     "name": "stdout",
     "output_type": "stream",
     "text": [
      "Model: \"sequential_3\"\n",
      "_________________________________________________________________\n",
      "Layer (type)                 Output Shape              Param #   \n",
      "=================================================================\n",
      "embedding_3 (Embedding)      (None, 100, 16)           160000    \n",
      "_________________________________________________________________\n",
      "global_average_pooling1d_3 ( (None, 16)                0         \n",
      "_________________________________________________________________\n",
      "dense_6 (Dense)              (None, 24)                408       \n",
      "_________________________________________________________________\n",
      "dense_7 (Dense)              (None, 1)                 25        \n",
      "=================================================================\n",
      "Total params: 160,433\n",
      "Trainable params: 160,433\n",
      "Non-trainable params: 0\n",
      "_________________________________________________________________\n"
     ]
    }
   ],
   "source": [
    "model.summary()"
   ]
  },
  {
   "cell_type": "code",
   "execution_count": 44,
   "metadata": {},
   "outputs": [
    {
     "name": "stdout",
     "output_type": "stream",
     "text": [
      "Epoch 1/30\n",
      "625/625 - 2s - loss: 0.6563 - accuracy: 0.6096 - val_loss: 0.5511 - val_accuracy: 0.8107\n",
      "Epoch 2/30\n",
      "625/625 - 2s - loss: 0.4134 - accuracy: 0.8384 - val_loss: 0.3779 - val_accuracy: 0.8439\n",
      "Epoch 3/30\n",
      "625/625 - 2s - loss: 0.3045 - accuracy: 0.8785 - val_loss: 0.3511 - val_accuracy: 0.8514\n",
      "Epoch 4/30\n",
      "625/625 - 2s - loss: 0.2538 - accuracy: 0.9007 - val_loss: 0.3529 - val_accuracy: 0.8422\n",
      "Epoch 5/30\n",
      "625/625 - 2s - loss: 0.2189 - accuracy: 0.9158 - val_loss: 0.3448 - val_accuracy: 0.8568\n",
      "Epoch 6/30\n",
      "625/625 - 2s - loss: 0.1936 - accuracy: 0.9258 - val_loss: 0.3518 - val_accuracy: 0.8551\n",
      "Epoch 7/30\n",
      "625/625 - 2s - loss: 0.1709 - accuracy: 0.9365 - val_loss: 0.3661 - val_accuracy: 0.8520\n",
      "Epoch 8/30\n",
      "625/625 - 2s - loss: 0.1536 - accuracy: 0.9437 - val_loss: 0.3807 - val_accuracy: 0.8530\n",
      "Epoch 9/30\n",
      "625/625 - 2s - loss: 0.1375 - accuracy: 0.9513 - val_loss: 0.3979 - val_accuracy: 0.8523\n",
      "Epoch 10/30\n",
      "625/625 - 2s - loss: 0.1243 - accuracy: 0.9564 - val_loss: 0.4182 - val_accuracy: 0.8517\n",
      "Epoch 11/30\n",
      "625/625 - 2s - loss: 0.1119 - accuracy: 0.9622 - val_loss: 0.4461 - val_accuracy: 0.8435\n",
      "Epoch 12/30\n",
      "625/625 - 2s - loss: 0.1025 - accuracy: 0.9642 - val_loss: 0.4663 - val_accuracy: 0.8459\n",
      "Epoch 13/30\n",
      "625/625 - 2s - loss: 0.0931 - accuracy: 0.9692 - val_loss: 0.5565 - val_accuracy: 0.8268\n",
      "Epoch 14/30\n",
      "625/625 - 2s - loss: 0.0861 - accuracy: 0.9715 - val_loss: 0.5389 - val_accuracy: 0.8329\n",
      "Epoch 15/30\n",
      "625/625 - 2s - loss: 0.0775 - accuracy: 0.9739 - val_loss: 0.5842 - val_accuracy: 0.8302\n",
      "Epoch 16/30\n",
      "625/625 - 2s - loss: 0.0726 - accuracy: 0.9766 - val_loss: 0.5856 - val_accuracy: 0.8354\n",
      "Epoch 17/30\n",
      "625/625 - 2s - loss: 0.0654 - accuracy: 0.9789 - val_loss: 0.6174 - val_accuracy: 0.8313\n",
      "Epoch 18/30\n",
      "625/625 - 2s - loss: 0.0595 - accuracy: 0.9815 - val_loss: 0.6472 - val_accuracy: 0.8293\n",
      "Epoch 19/30\n",
      "625/625 - 2s - loss: 0.0553 - accuracy: 0.9837 - val_loss: 0.6813 - val_accuracy: 0.8286\n",
      "Epoch 20/30\n",
      "625/625 - 2s - loss: 0.0508 - accuracy: 0.9840 - val_loss: 0.7165 - val_accuracy: 0.8265\n",
      "Epoch 21/30\n",
      "625/625 - 2s - loss: 0.0449 - accuracy: 0.9869 - val_loss: 0.7555 - val_accuracy: 0.8234\n",
      "Epoch 22/30\n",
      "625/625 - 2s - loss: 0.0417 - accuracy: 0.9884 - val_loss: 0.7924 - val_accuracy: 0.8231\n",
      "Epoch 23/30\n",
      "625/625 - 2s - loss: 0.0388 - accuracy: 0.9891 - val_loss: 0.8250 - val_accuracy: 0.8201\n",
      "Epoch 24/30\n",
      "625/625 - 2s - loss: 0.0360 - accuracy: 0.9896 - val_loss: 0.9035 - val_accuracy: 0.8185\n",
      "Epoch 25/30\n",
      "625/625 - 2s - loss: 0.0321 - accuracy: 0.9910 - val_loss: 0.9135 - val_accuracy: 0.8162\n",
      "Epoch 26/30\n",
      "625/625 - 2s - loss: 0.0317 - accuracy: 0.9911 - val_loss: 0.9406 - val_accuracy: 0.8171\n",
      "Epoch 27/30\n",
      "625/625 - 2s - loss: 0.0292 - accuracy: 0.9915 - val_loss: 1.0000 - val_accuracy: 0.8091\n",
      "Epoch 28/30\n",
      "625/625 - 2s - loss: 0.0280 - accuracy: 0.9911 - val_loss: 1.0365 - val_accuracy: 0.8156\n",
      "Epoch 29/30\n",
      "625/625 - 2s - loss: 0.0247 - accuracy: 0.9929 - val_loss: 1.0445 - val_accuracy: 0.8125\n",
      "Epoch 30/30\n",
      "625/625 - 2s - loss: 0.0223 - accuracy: 0.9934 - val_loss: 1.1164 - val_accuracy: 0.8120\n"
     ]
    }
   ],
   "source": [
    "num_epochs = 30\n",
    "history = model.fit(training_padded, training_labels, epochs=num_epochs, validation_data=(testing_padded, testing_labels), verbose=2)"
   ]
  },
  {
   "cell_type": "code",
   "execution_count": 45,
   "metadata": {},
   "outputs": [],
   "source": [
    "import matplotlib.pyplot as plt"
   ]
  },
  {
   "cell_type": "code",
   "execution_count": 46,
   "metadata": {},
   "outputs": [
    {
     "data": {
      "image/png": "[encoded data removed]",
      "text/plain": [
       "<Figure size 432x288 with 1 Axes>"
      ]
     },
     "metadata": {
      "needs_background": "light"
     },
     "output_type": "display_data"
    },
    {
     "data": {
      "image/png": "[encoded data removed]",
      "text/plain": [
       "<Figure size 432x288 with 1 Axes>"
      ]
     },
     "metadata": {
      "needs_background": "light"
     },
     "output_type": "display_data"
    }
   ],
   "source": [
    "def plot_graphs(history, string):\n",
    "    plt.plot(history.history[string])\n",
    "    plt.plot(history.history['val_'+string])\n",
    "    plt.xlabel('Epochs')\n",
    "    plt.ylabel(string)\n",
    "    plt.legend([string, 'val_'+string])\n",
    "    plt.show()\n",
    "\n",
    "plot_graphs(history, 'accuracy')\n",
    "plot_graphs(history, 'loss')\n"
   ]
  },
  {
   "cell_type": "code",
   "execution_count": 47,
   "metadata": {},
   "outputs": [],
   "source": [
    "reverse_word_index = dict([(value,key) for key,value in word_index.items()])"
   ]
  },
  {
   "cell_type": "code",
   "execution_count": 48,
   "metadata": {},
   "outputs": [],
   "source": [
    "def decode_sentence(text):\n",
    "    return ' '.join([reverse_word_index.get(i, '?') for i in text])"
   ]
  },
  {
   "cell_type": "code",
   "execution_count": 49,
   "metadata": {},
   "outputs": [
    {
     "data": {
      "text/plain": [
       "\"former <OOV> store clerk sues over secret 'black <OOV> for minority shoppers ? ? ? ? ? ? ? ? ? ? ? ? ? ? ? ? ? ? ? ? ? ? ? ? ? ? ? ? ? ? ? ? ? ? ? ? ? ? ? ? ? ? ? ? ? ? ? ? ? ? ? ? ? ? ? ? ? ? ? ? ? ? ? ? ? ? ? ? ? ? ? ? ? ? ? ? ? ? ? ? ? ? ? ? ? ? ? ?\""
      ]
     },
     "execution_count": 49,
     "metadata": {},
     "output_type": "execute_result"
    }
   ],
   "source": [
    "decode_sentence(training_padded[0])"
   ]
  },
  {
   "cell_type": "code",
   "execution_count": 52,
   "metadata": {},
   "outputs": [
    {
     "data": {
      "text/plain": [
       "\"mom starting to fear son's web series closest thing she will have to grandchild\""
      ]
     },
     "execution_count": 52,
     "metadata": {},
     "output_type": "execute_result"
    }
   ],
   "source": [
    "training_sentences[2]"
   ]
  },
  {
   "cell_type": "code",
   "execution_count": 53,
   "metadata": {},
   "outputs": [
    {
     "data": {
      "text/plain": [
       "1"
      ]
     },
     "execution_count": 53,
     "metadata": {},
     "output_type": "execute_result"
    }
   ],
   "source": [
    "labels[2]"
   ]
  },
  {
   "cell_type": "code",
   "execution_count": 54,
   "metadata": {},
   "outputs": [
    {
     "data": {
      "text/plain": [
       "(10000, 16)"
      ]
     },
     "execution_count": 54,
     "metadata": {},
     "output_type": "execute_result"
    }
   ],
   "source": [
    "e = model.layers[0]\n",
    "weights = e.get_weights()[0]\n",
    "weights.shape"
   ]
  },
  {
   "cell_type": "code",
   "execution_count": 55,
   "metadata": {},
   "outputs": [],
   "source": [
    "sentence = ['granny starting to fear spides in the garden might be real', 'game of thrones season finale showing this sunday night']\n",
    "sequences = tokenizer.texts_to_sequences(sentence)\n",
    "padded = pad_sequences(sequences, maxlen=max_length, padding=padding_type, truncating=trunc_type)"
   ]
  },
  {
   "cell_type": "code",
   "execution_count": 58,
   "metadata": {},
   "outputs": [
    {
     "data": {
      "text/plain": [
       "array([[   1,  890,    2,  891,    1,    5,    4, 2565,  380,   22,  178,\n",
       "           0,    0,    0,    0,    0,    0,    0,    0,    0,    0,    0,\n",
       "           0,    0,    0,    0,    0,    0,    0,    0,    0,    0,    0,\n",
       "           0,    0,    0,    0,    0,    0,    0,    0,    0,    0,    0,\n",
       "           0,    0,    0,    0,    0,    0,    0,    0,    0,    0,    0,\n",
       "           0,    0,    0,    0,    0,    0,    0,    0,    0,    0,    0,\n",
       "           0,    0,    0,    0,    0,    0,    0,    0,    0,    0,    0,\n",
       "           0,    0,    0,    0,    0,    0,    0,    0,    0,    0,    0,\n",
       "           0,    0,    0,    0,    0,    0,    0,    0,    0,    0,    0,\n",
       "           0],\n",
       "       [ 249,    3,    1,  247, 3385, 2933,   20, 1551,  259,    0,    0,\n",
       "           0,    0,    0,    0,    0,    0,    0,    0,    0,    0,    0,\n",
       "           0,    0,    0,    0,    0,    0,    0,    0,    0,    0,    0,\n",
       "           0,    0,    0,    0,    0,    0,    0,    0,    0,    0,    0,\n",
       "           0,    0,    0,    0,    0,    0,    0,    0,    0,    0,    0,\n",
       "           0,    0,    0,    0,    0,    0,    0,    0,    0,    0,    0,\n",
       "           0,    0,    0,    0,    0,    0,    0,    0,    0,    0,    0,\n",
       "           0,    0,    0,    0,    0,    0,    0,    0,    0,    0,    0,\n",
       "           0,    0,    0,    0,    0,    0,    0,    0,    0,    0,    0,\n",
       "           0]], dtype=int32)"
      ]
     },
     "execution_count": 58,
     "metadata": {},
     "output_type": "execute_result"
    }
   ],
   "source": [
    "padded"
   ]
  },
  {
   "cell_type": "code",
   "execution_count": 60,
   "metadata": {},
   "outputs": [
    {
     "name": "stdout",
     "output_type": "stream",
     "text": [
      "[[8.337506e-01]\n",
      " [6.829881e-06]]\n"
     ]
    }
   ],
   "source": [
    "print(model.predict(padded))"
   ]
  },
  {
   "cell_type": "code",
   "execution_count": null,
   "metadata": {},
   "outputs": [],
   "source": []
  }
 ],
 "metadata": {
  "kernelspec": {
   "display_name": "Python 3",
   "language": "python",
   "name": "python3"
  },
  "language_info": {
   "codemirror_mode": {
    "name": "ipython",
    "version": 3
   },
   "file_extension": ".py",
   "mimetype": "text/x-python",
   "name": "python",
   "nbconvert_exporter": "python",
   "pygments_lexer": "ipython3",
   "version": "3.6.8"
  }
 },
 "nbformat": 4,
 "nbformat_minor": 4
}
