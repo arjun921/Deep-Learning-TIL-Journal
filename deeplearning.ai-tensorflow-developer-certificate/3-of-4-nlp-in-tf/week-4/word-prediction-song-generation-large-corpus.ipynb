{
 "cells": [
  {
   "cell_type": "code",
   "execution_count": 2,
   "metadata": {},
   "outputs": [],
   "source": [
    "import tensorflow as tf\n",
    "\n",
    "from tensorflow.keras.preprocessing.sequence import pad_sequences\n",
    "from tensorflow.keras.layers import Embedding, LSTM, Dense, Bidirectional\n",
    "from tensorflow.keras.preprocessing.text import Tokenizer\n",
    "from tensorflow.keras.models import Sequential\n",
    "from tensorflow.keras.optimizers import Adam\n",
    "import numpy as np"
   ]
  },
  {
   "cell_type": "code",
   "execution_count": 5,
   "metadata": {},
   "outputs": [
    {
     "name": "stdout",
     "output_type": "stream",
     "text": [
      "  % Total    % Received % Xferd  Average Speed   Time    Time     Time  Current\n",
      "                                 Dload  Upload   Total   Spent    Left  Speed\n",
      "100 68970  100 68970    0     0  2322k      0 --:--:-- --:--:-- --:--:-- 2322k\n"
     ]
    }
   ],
   "source": [
    "!curl https://storage.googleapis.com/laurencemoroney-blog.appspot.com/irish-lyrics-eof.txt > /tmp/irish-lyrics.txt"
   ]
  },
  {
   "cell_type": "code",
   "execution_count": 9,
   "metadata": {},
   "outputs": [
    {
     "name": "stdout",
     "output_type": "stream",
     "text": [
      "2690\n"
     ]
    }
   ],
   "source": [
    "tokenizer = Tokenizer()\n",
    "\n",
    "data= open('/tmp/irish-lyrics.txt').read()\n",
    "\n",
    "corpus  = data.lower().split('\\n')\n",
    "\n",
    "tokenizer.fit_on_texts(corpus)\n",
    "\n",
    "total_words = len(tokenizer.word_index) + 1\n",
    "\n",
    "# print(tokenizer.word_index)\n",
    "print(total_words)"
   ]
  },
  {
   "cell_type": "code",
   "execution_count": 10,
   "metadata": {},
   "outputs": [],
   "source": [
    "input_sequences = []\n",
    "for line in corpus:\n",
    "    token_list = tokenizer.texts_to_sequences([line])[0]\n",
    "    for i in range(1, len(token_list)):\n",
    "        n_gram_sequence = token_list[:i+1]\n",
    "        input_sequences.append(n_gram_sequence)"
   ]
  },
  {
   "cell_type": "code",
   "execution_count": 11,
   "metadata": {},
   "outputs": [],
   "source": [
    "# Pad sequences\n",
    "\n",
    "max_sequence_len = max([len(x) for  x in input_sequences])\n",
    "input_sequences = np.array(pad_sequences(input_sequences, maxlen=max_sequence_len, padding='pre'))"
   ]
  },
  {
   "cell_type": "code",
   "execution_count": 12,
   "metadata": {},
   "outputs": [],
   "source": [
    "# create predictors and label\n",
    "\n",
    "xs, labels = input_sequences[:,:-1], input_sequences[:,-1]\n",
    "ys = tf.keras.utils.to_categorical(labels, num_classes=total_words)"
   ]
  },
  {
   "cell_type": "code",
   "execution_count": 13,
   "metadata": {},
   "outputs": [
    {
     "name": "stdout",
     "output_type": "stream",
     "text": [
      "8\n",
      "1\n",
      "71\n",
      "6\n",
      "713\n",
      "39\n",
      "1790\n",
      "1791\n"
     ]
    }
   ],
   "source": [
    "print(tokenizer.word_index['in'])\n",
    "print(tokenizer.word_index['the'])\n",
    "print(tokenizer.word_index['town'])\n",
    "print(tokenizer.word_index['of'])\n",
    "print(tokenizer.word_index['athy'])\n",
    "print(tokenizer.word_index['one'])\n",
    "print(tokenizer.word_index['jeremy'])\n",
    "print(tokenizer.word_index['lanigan'])"
   ]
  },
  {
   "cell_type": "code",
   "execution_count": 14,
   "metadata": {},
   "outputs": [
    {
     "name": "stdout",
     "output_type": "stream",
     "text": [
      "[0 0 0 0 0 0 0 0 0 0 0 0 0 0 2] [0. 0. 0. ... 0. 0. 0.]\n"
     ]
    }
   ],
   "source": [
    "# converted word predictions to categorical using one hot encoding\n",
    "print(xs[6],ys[6])"
   ]
  },
  {
   "cell_type": "code",
   "execution_count": 15,
   "metadata": {},
   "outputs": [
    {
     "name": "stdout",
     "output_type": "stream",
     "text": [
      "[   0    0    0    0    0    0    0    0    0   51   12   96 1217   48\n",
      "    2]\n",
      "[0. 0. 0. ... 0. 0. 0.]\n"
     ]
    }
   ],
   "source": [
    "print(xs[5])\n",
    "print(ys[5])"
   ]
  },
  {
   "cell_type": "code",
   "execution_count": 16,
   "metadata": {},
   "outputs": [],
   "source": [
    "model = Sequential([\n",
    "    Embedding(total_words, 128, input_length=max_sequence_len-1),\n",
    "    Bidirectional(LSTM(150)),\n",
    "    Dense(total_words, activation='softmax') # since we've done one hot encoding, output neurons have to be equivalent to total_words\n",
    "])"
   ]
  },
  {
   "cell_type": "code",
   "execution_count": 19,
   "metadata": {},
   "outputs": [],
   "source": [
    "from tensorflow.keras.optimizers import Adam"
   ]
  },
  {
   "cell_type": "code",
   "execution_count": 20,
   "metadata": {},
   "outputs": [],
   "source": [
    "model.compile(loss='categorical_crossentropy', optimizer=Adam(lr=0.01), metrics=['accuracy'])"
   ]
  },
  {
   "cell_type": "code",
   "execution_count": 21,
   "metadata": {},
   "outputs": [
    {
     "name": "stdout",
     "output_type": "stream",
     "text": [
      "Epoch 1/100\n",
      "377/377 [==============================] - 3s 8ms/step - loss: 6.6507 - accuracy: 0.0736\n",
      "Epoch 2/100\n",
      "377/377 [==============================] - 3s 8ms/step - loss: 5.7380 - accuracy: 0.1183\n",
      "Epoch 3/100\n",
      "377/377 [==============================] - 3s 8ms/step - loss: 4.8302 - accuracy: 0.1697\n",
      "Epoch 4/100\n",
      "377/377 [==============================] - 3s 8ms/step - loss: 3.9081 - accuracy: 0.2429\n",
      "Epoch 5/100\n",
      "377/377 [==============================] - 3s 8ms/step - loss: 3.0786 - accuracy: 0.3503\n",
      "Epoch 6/100\n",
      "377/377 [==============================] - 3s 8ms/step - loss: 2.4383 - accuracy: 0.4520\n",
      "Epoch 7/100\n",
      "377/377 [==============================] - 3s 8ms/step - loss: 2.0311 - accuracy: 0.5267\n",
      "Epoch 8/100\n",
      "377/377 [==============================] - 3s 8ms/step - loss: 1.6793 - accuracy: 0.5975\n",
      "Epoch 9/100\n",
      "377/377 [==============================] - 3s 8ms/step - loss: 1.4318 - accuracy: 0.6588\n",
      "Epoch 10/100\n",
      "377/377 [==============================] - 3s 8ms/step - loss: 1.2621 - accuracy: 0.6908\n",
      "Epoch 11/100\n",
      "377/377 [==============================] - 3s 8ms/step - loss: 1.1880 - accuracy: 0.7108\n",
      "Epoch 12/100\n",
      "377/377 [==============================] - 3s 8ms/step - loss: 1.1214 - accuracy: 0.7229\n",
      "Epoch 13/100\n",
      "377/377 [==============================] - 3s 8ms/step - loss: 1.1030 - accuracy: 0.7266\n",
      "Epoch 14/100\n",
      "377/377 [==============================] - 3s 8ms/step - loss: 1.0950 - accuracy: 0.7245\n",
      "Epoch 15/100\n",
      "377/377 [==============================] - 3s 8ms/step - loss: 1.1291 - accuracy: 0.7142\n",
      "Epoch 16/100\n",
      "377/377 [==============================] - 3s 8ms/step - loss: 1.1486 - accuracy: 0.7081\n",
      "Epoch 17/100\n",
      "377/377 [==============================] - 3s 8ms/step - loss: 1.1019 - accuracy: 0.7173\n",
      "Epoch 18/100\n",
      "377/377 [==============================] - 3s 8ms/step - loss: 0.9963 - accuracy: 0.7444\n",
      "Epoch 19/100\n",
      "377/377 [==============================] - 3s 8ms/step - loss: 0.9555 - accuracy: 0.7537\n",
      "Epoch 20/100\n",
      "377/377 [==============================] - 3s 8ms/step - loss: 0.9652 - accuracy: 0.7510\n",
      "Epoch 21/100\n",
      "377/377 [==============================] - 3s 8ms/step - loss: 0.9725 - accuracy: 0.7503\n",
      "Epoch 22/100\n",
      "377/377 [==============================] - 3s 8ms/step - loss: 1.0289 - accuracy: 0.7318\n",
      "Epoch 23/100\n",
      "377/377 [==============================] - 3s 8ms/step - loss: 1.0986 - accuracy: 0.7176\n",
      "Epoch 24/100\n",
      "377/377 [==============================] - 3s 8ms/step - loss: 1.1972 - accuracy: 0.6982\n",
      "Epoch 25/100\n",
      "377/377 [==============================] - 3s 8ms/step - loss: 1.0401 - accuracy: 0.7315\n",
      "Epoch 26/100\n",
      "377/377 [==============================] - 3s 8ms/step - loss: 0.9346 - accuracy: 0.7568\n",
      "Epoch 27/100\n",
      "377/377 [==============================] - 3s 8ms/step - loss: 0.8867 - accuracy: 0.7738\n",
      "Epoch 28/100\n",
      "377/377 [==============================] - 3s 8ms/step - loss: 0.8187 - accuracy: 0.7937\n",
      "Epoch 29/100\n",
      "377/377 [==============================] - 3s 8ms/step - loss: 0.8112 - accuracy: 0.7917\n",
      "Epoch 30/100\n",
      "377/377 [==============================] - 3s 8ms/step - loss: 0.8476 - accuracy: 0.7822\n",
      "Epoch 31/100\n",
      "377/377 [==============================] - 3s 8ms/step - loss: 0.9274 - accuracy: 0.7579\n",
      "Epoch 32/100\n",
      "377/377 [==============================] - 3s 8ms/step - loss: 1.1138 - accuracy: 0.7173\n",
      "Epoch 33/100\n",
      "377/377 [==============================] - 3s 8ms/step - loss: 1.2314 - accuracy: 0.6833\n",
      "Epoch 34/100\n",
      "377/377 [==============================] - 3s 8ms/step - loss: 1.1913 - accuracy: 0.6978\n",
      "Epoch 35/100\n",
      "377/377 [==============================] - 3s 8ms/step - loss: 1.0241 - accuracy: 0.7346\n",
      "Epoch 36/100\n",
      "377/377 [==============================] - 3s 8ms/step - loss: 0.9073 - accuracy: 0.7619\n",
      "Epoch 37/100\n",
      "377/377 [==============================] - 3s 8ms/step - loss: 0.8322 - accuracy: 0.7821\n",
      "Epoch 38/100\n",
      "377/377 [==============================] - 3s 8ms/step - loss: 0.7847 - accuracy: 0.7958\n",
      "Epoch 39/100\n",
      "377/377 [==============================] - 3s 8ms/step - loss: 0.8230 - accuracy: 0.7889\n",
      "Epoch 40/100\n",
      "377/377 [==============================] - 3s 8ms/step - loss: 0.8683 - accuracy: 0.7745\n",
      "Epoch 41/100\n",
      "377/377 [==============================] - 3s 8ms/step - loss: 0.9524 - accuracy: 0.7496\n",
      "Epoch 42/100\n",
      "377/377 [==============================] - 3s 8ms/step - loss: 1.0820 - accuracy: 0.7251\n",
      "Epoch 43/100\n",
      "377/377 [==============================] - 3s 8ms/step - loss: 1.0861 - accuracy: 0.7150\n",
      "Epoch 44/100\n",
      "377/377 [==============================] - 3s 8ms/step - loss: 1.0311 - accuracy: 0.7300\n",
      "Epoch 45/100\n",
      "377/377 [==============================] - 3s 8ms/step - loss: 1.0206 - accuracy: 0.7431\n",
      "Epoch 46/100\n",
      "377/377 [==============================] - 3s 8ms/step - loss: 0.9394 - accuracy: 0.7600\n",
      "Epoch 47/100\n",
      "377/377 [==============================] - 3s 8ms/step - loss: 0.9057 - accuracy: 0.7643\n",
      "Epoch 48/100\n",
      "377/377 [==============================] - 3s 8ms/step - loss: 0.8612 - accuracy: 0.7784\n",
      "Epoch 49/100\n",
      "377/377 [==============================] - 3s 8ms/step - loss: 0.8352 - accuracy: 0.7867\n",
      "Epoch 50/100\n",
      "377/377 [==============================] - 3s 8ms/step - loss: 0.8342 - accuracy: 0.7880\n",
      "Epoch 51/100\n",
      "377/377 [==============================] - 3s 8ms/step - loss: 0.8301 - accuracy: 0.7868\n",
      "Epoch 52/100\n",
      "377/377 [==============================] - 3s 8ms/step - loss: 0.9172 - accuracy: 0.7649\n",
      "Epoch 53/100\n",
      "377/377 [==============================] - 3s 8ms/step - loss: 0.9812 - accuracy: 0.7456\n",
      "Epoch 54/100\n",
      "377/377 [==============================] - 3s 8ms/step - loss: 1.0766 - accuracy: 0.7250\n",
      "Epoch 55/100\n",
      "377/377 [==============================] - 3s 8ms/step - loss: 1.0822 - accuracy: 0.7214\n",
      "Epoch 56/100\n",
      "377/377 [==============================] - 3s 8ms/step - loss: 0.9901 - accuracy: 0.7477\n",
      "Epoch 57/100\n",
      "377/377 [==============================] - 3s 8ms/step - loss: 0.9211 - accuracy: 0.7618\n",
      "Epoch 58/100\n",
      "377/377 [==============================] - 3s 8ms/step - loss: 0.8915 - accuracy: 0.7715\n",
      "Epoch 59/100\n",
      "377/377 [==============================] - 3s 8ms/step - loss: 0.8847 - accuracy: 0.7733\n",
      "Epoch 60/100\n",
      "377/377 [==============================] - 3s 8ms/step - loss: 0.8712 - accuracy: 0.7740\n",
      "Epoch 61/100\n",
      "377/377 [==============================] - 3s 8ms/step - loss: 0.8742 - accuracy: 0.7779\n",
      "Epoch 62/100\n",
      "377/377 [==============================] - 3s 8ms/step - loss: 0.8580 - accuracy: 0.7787\n",
      "Epoch 63/100\n",
      "377/377 [==============================] - 3s 8ms/step - loss: 0.8946 - accuracy: 0.7765\n",
      "Epoch 64/100\n",
      "377/377 [==============================] - 3s 8ms/step - loss: 0.8925 - accuracy: 0.7716\n",
      "Epoch 65/100\n",
      "377/377 [==============================] - 3s 8ms/step - loss: 0.9391 - accuracy: 0.7617\n",
      "Epoch 66/100\n",
      "377/377 [==============================] - 3s 8ms/step - loss: 0.9485 - accuracy: 0.7550\n",
      "Epoch 67/100\n",
      "377/377 [==============================] - 3s 8ms/step - loss: 0.9654 - accuracy: 0.7532\n",
      "Epoch 68/100\n",
      "377/377 [==============================] - 3s 8ms/step - loss: 0.9615 - accuracy: 0.7578\n",
      "Epoch 69/100\n",
      "377/377 [==============================] - 3s 8ms/step - loss: 0.9369 - accuracy: 0.7622\n",
      "Epoch 70/100\n",
      "377/377 [==============================] - 3s 8ms/step - loss: 0.9275 - accuracy: 0.7629\n",
      "Epoch 71/100\n",
      "377/377 [==============================] - 3s 8ms/step - loss: 0.9146 - accuracy: 0.7592\n",
      "Epoch 72/100\n",
      "377/377 [==============================] - 3s 8ms/step - loss: 0.9241 - accuracy: 0.7658\n",
      "Epoch 73/100\n",
      "377/377 [==============================] - 3s 8ms/step - loss: 0.8678 - accuracy: 0.7765\n",
      "Epoch 74/100\n",
      "377/377 [==============================] - 3s 8ms/step - loss: 0.8497 - accuracy: 0.7813\n",
      "Epoch 75/100\n",
      "377/377 [==============================] - 3s 8ms/step - loss: 0.8427 - accuracy: 0.7831\n",
      "Epoch 76/100\n",
      "377/377 [==============================] - 3s 8ms/step - loss: 0.8382 - accuracy: 0.7824\n",
      "Epoch 77/100\n",
      "377/377 [==============================] - 3s 8ms/step - loss: 0.8746 - accuracy: 0.7780\n",
      "Epoch 78/100\n",
      "377/377 [==============================] - 3s 8ms/step - loss: 0.9463 - accuracy: 0.7621\n",
      "Epoch 79/100\n",
      "377/377 [==============================] - 3s 8ms/step - loss: 0.9690 - accuracy: 0.7536\n",
      "Epoch 80/100\n",
      "377/377 [==============================] - 3s 8ms/step - loss: 0.9822 - accuracy: 0.7540\n",
      "Epoch 81/100\n",
      "377/377 [==============================] - 3s 8ms/step - loss: 0.9338 - accuracy: 0.7632\n",
      "Epoch 82/100\n",
      "377/377 [==============================] - 3s 8ms/step - loss: 0.9300 - accuracy: 0.7637\n",
      "Epoch 83/100\n",
      "377/377 [==============================] - 3s 8ms/step - loss: 0.8653 - accuracy: 0.7779\n",
      "Epoch 84/100\n",
      "377/377 [==============================] - 3s 8ms/step - loss: 0.8593 - accuracy: 0.7815\n",
      "Epoch 85/100\n",
      "377/377 [==============================] - 3s 8ms/step - loss: 0.8484 - accuracy: 0.7835\n",
      "Epoch 86/100\n",
      "377/377 [==============================] - 3s 8ms/step - loss: 0.8589 - accuracy: 0.7832\n",
      "Epoch 87/100\n",
      "377/377 [==============================] - 3s 8ms/step - loss: 0.8992 - accuracy: 0.7723\n",
      "Epoch 88/100\n",
      "377/377 [==============================] - 3s 8ms/step - loss: 0.9269 - accuracy: 0.7631\n",
      "Epoch 89/100\n",
      "377/377 [==============================] - 3s 8ms/step - loss: 1.0599 - accuracy: 0.7405\n",
      "Epoch 90/100\n",
      "377/377 [==============================] - 3s 8ms/step - loss: 1.0574 - accuracy: 0.7385\n",
      "Epoch 91/100\n",
      "377/377 [==============================] - 3s 8ms/step - loss: 1.0175 - accuracy: 0.7473\n",
      "Epoch 92/100\n",
      "377/377 [==============================] - 3s 8ms/step - loss: 0.9287 - accuracy: 0.7643\n",
      "Epoch 93/100\n",
      "377/377 [==============================] - 3s 8ms/step - loss: 0.8836 - accuracy: 0.7765\n",
      "Epoch 94/100\n",
      "377/377 [==============================] - 3s 8ms/step - loss: 0.8796 - accuracy: 0.7825\n",
      "Epoch 95/100\n",
      "377/377 [==============================] - 3s 8ms/step - loss: 0.8428 - accuracy: 0.7858\n",
      "Epoch 96/100\n",
      "377/377 [==============================] - 3s 8ms/step - loss: 0.8373 - accuracy: 0.7873\n",
      "Epoch 97/100\n",
      "377/377 [==============================] - 3s 8ms/step - loss: 0.8423 - accuracy: 0.7888\n",
      "Epoch 98/100\n",
      "377/377 [==============================] - 3s 8ms/step - loss: 0.8309 - accuracy: 0.7901\n",
      "Epoch 99/100\n",
      "377/377 [==============================] - 3s 8ms/step - loss: 0.8629 - accuracy: 0.7858\n",
      "Epoch 100/100\n",
      "377/377 [==============================] - 3s 8ms/step - loss: 0.8923 - accuracy: 0.7760\n"
     ]
    }
   ],
   "source": [
    "history = model.fit(xs, ys, epochs=100, verbose=1)"
   ]
  },
  {
   "cell_type": "code",
   "execution_count": 22,
   "metadata": {},
   "outputs": [],
   "source": [
    "import matplotlib.pyplot as plt\n",
    "\n",
    "\n",
    "def plot_graphs(history, string):\n",
    "    plt.plot(history.history[string])\n",
    "    plt.xlabel(\"Epochs\")\n",
    "    plt.ylabel(string)\n",
    "    plt.show()"
   ]
  },
  {
   "cell_type": "code",
   "execution_count": 23,
   "metadata": {},
   "outputs": [
    {
     "data": {
      "image/png": "[encoded data removed]",
      "text/plain": [
       "<Figure size 432x288 with 1 Axes>"
      ]
     },
     "metadata": {
      "needs_background": "light"
     },
     "output_type": "display_data"
    },
    {
     "data": {
      "image/png": "[encoded data removed]",
      "text/plain": [
       "<Figure size 432x288 with 1 Axes>"
      ]
     },
     "metadata": {
      "needs_background": "light"
     },
     "output_type": "display_data"
    }
   ],
   "source": [
    "plot_graphs(history, 'accuracy')\n",
    "plot_graphs(history, 'loss')\n"
   ]
  },
  {
   "cell_type": "code",
   "execution_count": 39,
   "metadata": {},
   "outputs": [],
   "source": [
    "seed_text = \"I've got a bad feeling about this\"\n",
    "next_words = 100"
   ]
  },
  {
   "cell_type": "code",
   "execution_count": 40,
   "metadata": {},
   "outputs": [],
   "source": [
    "inverted_word_index = dict(list((value,key) for key,value in tokenizer.word_index.items()))"
   ]
  },
  {
   "cell_type": "code",
   "execution_count": 41,
   "metadata": {},
   "outputs": [
    {
     "name": "stdout",
     "output_type": "stream",
     "text": [
      "I've got a bad feeling about this high road with my bag eye down the street on raked and rambling to ireland to change the linnet too late at night hes stationed trod of green went twas gone away waiting mother ill not be in again thou mothers so together shaken far away oer the grand land or night host turning out his money did me deny day or in prison coo his body graceful as their blood said she still love well care build ill love upon the street fair of spancil hill at back paddy take today again if the return so fondly today with\n"
     ]
    }
   ],
   "source": [
    "for _ in range(next_words):\n",
    "    token_list = tokenizer.texts_to_sequences([seed_text])[0]\n",
    "    token_list = pad_sequences([token_list], maxlen=max_sequence_len-1, padding='pre')\n",
    "    predicted = model.predict_classes(token_list, verbose=0)\n",
    "    output_word = inverted_word_index[predicted[0]]\n",
    "    seed_text += ' ' + output_word\n",
    "print(seed_text)"
   ]
  },
  {
   "cell_type": "code",
   "execution_count": null,
   "metadata": {},
   "outputs": [],
   "source": []
  }
 ],
 "metadata": {
  "kernelspec": {
   "display_name": "Python 3",
   "language": "python",
   "name": "python3"
  },
  "language_info": {
   "codemirror_mode": {
    "name": "ipython",
    "version": 3
   },
   "file_extension": ".py",
   "mimetype": "text/x-python",
   "name": "python",
   "nbconvert_exporter": "python",
   "pygments_lexer": "ipython3",
   "version": "3.6.8"
  }
 },
 "nbformat": 4,
 "nbformat_minor": 4
}
